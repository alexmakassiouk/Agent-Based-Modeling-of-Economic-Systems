{
 "cells": [
  {
   "cell_type": "markdown",
   "metadata": {},
   "source": [
    "# Basics:\n",
    "- Arithmetic operations\n",
    "- Types\n",
    "- Errors\n",
    "- Variables definitions"
   ]
  },
  {
   "cell_type": "code",
   "execution_count": 1,
   "metadata": {},
   "outputs": [
    {
     "data": {
      "text/plain": [
       "4"
      ]
     },
     "execution_count": 1,
     "metadata": {},
     "output_type": "execute_result"
    }
   ],
   "source": [
    "2+2"
   ]
  },
  {
   "cell_type": "code",
   "execution_count": 2,
   "metadata": {},
   "outputs": [
    {
     "data": {
      "text/plain": [
       "0.5454545454545454"
      ]
     },
     "execution_count": 2,
     "metadata": {},
     "output_type": "execute_result"
    }
   ],
   "source": [
    "(30-4*6)/11"
   ]
  },
  {
   "cell_type": "markdown",
   "metadata": {},
   "source": [
    "Python 3 deals with types automatically.\n",
    "\n",
    "When you divide two integers they are casted to float.\n",
    "Obviously, you cannot divide by zero: Python will throw an error."
   ]
  },
  {
   "cell_type": "code",
   "execution_count": 3,
   "metadata": {},
   "outputs": [
    {
     "data": {
      "text/plain": [
       "0.3333333333333333"
      ]
     },
     "execution_count": 3,
     "metadata": {},
     "output_type": "execute_result"
    }
   ],
   "source": [
    "1/3"
   ]
  },
  {
   "cell_type": "code",
   "execution_count": 4,
   "metadata": {},
   "outputs": [
    {
     "ename": "ZeroDivisionError",
     "evalue": "division by zero",
     "output_type": "error",
     "traceback": [
      "\u001b[0;31m---------------------------------------------------------------------------\u001b[0m",
      "\u001b[0;31mZeroDivisionError\u001b[0m                         Traceback (most recent call last)",
      "\u001b[0;32m<ipython-input-4-5f3028ede486>\u001b[0m in \u001b[0;36m<module>\u001b[0;34m()\u001b[0m\n\u001b[0;32m----> 1\u001b[0;31m \u001b[0;36m1\u001b[0m\u001b[0;34m/\u001b[0m\u001b[0;36m0\u001b[0m   \u001b[0;31m#call Chuck Norris\u001b[0m\u001b[0;34m\u001b[0m\u001b[0m\n\u001b[0m",
      "\u001b[0;31mZeroDivisionError\u001b[0m: division by zero"
     ]
    }
   ],
   "source": [
    "1/0   #call Chuck Norris"
   ]
  },
  {
   "cell_type": "markdown",
   "metadata": {},
   "source": [
    "Before calling a variable, you need to define it!"
   ]
  },
  {
   "cell_type": "code",
   "execution_count": 5,
   "metadata": {},
   "outputs": [
    {
     "ename": "NameError",
     "evalue": "name 'n' is not defined",
     "output_type": "error",
     "traceback": [
      "\u001b[0;31m---------------------------------------------------------------------------\u001b[0m",
      "\u001b[0;31mNameError\u001b[0m                                 Traceback (most recent call last)",
      "\u001b[0;32m<ipython-input-5-ab0680a89434>\u001b[0m in \u001b[0;36m<module>\u001b[0;34m()\u001b[0m\n\u001b[0;32m----> 1\u001b[0;31m \u001b[0mn\u001b[0m\u001b[0;34m\u001b[0m\u001b[0m\n\u001b[0m",
      "\u001b[0;31mNameError\u001b[0m: name 'n' is not defined"
     ]
    }
   ],
   "source": [
    "n"
   ]
  },
  {
   "cell_type": "code",
   "execution_count": 6,
   "metadata": {},
   "outputs": [
    {
     "data": {
      "text/plain": [
       "(1.5+0.5j)"
      ]
     },
     "execution_count": 6,
     "metadata": {},
     "output_type": "execute_result"
    }
   ],
   "source": [
    "a=1.5+0.5j\n",
    "a"
   ]
  },
  {
   "cell_type": "markdown",
   "metadata": {},
   "source": [
    "Functions are called passing an argument after the parentheses. The print() function prints its argument."
   ]
  },
  {
   "cell_type": "code",
   "execution_count": 7,
   "metadata": {},
   "outputs": [
    {
     "name": "stdout",
     "output_type": "stream",
     "text": [
      "1.5\n",
      "0.5\n"
     ]
    }
   ],
   "source": [
    "print(a.real)\n",
    "print(a.imag)"
   ]
  },
  {
   "cell_type": "code",
   "execution_count": 8,
   "metadata": {},
   "outputs": [
    {
     "name": "stdout",
     "output_type": "stream",
     "text": [
      "Hello world\n",
      "'Hello world'\n",
      "'Hello world\"\n"
     ]
    }
   ],
   "source": [
    "print('Hello world')\n",
    "print(\"'Hello world'\")\n",
    "print(''''Hello world\"''')"
   ]
  },
  {
   "cell_type": "markdown",
   "metadata": {},
   "source": [
    "Strings are treated as vectors. You can index them to retrieve parts of them"
   ]
  },
  {
   "cell_type": "code",
   "execution_count": 9,
   "metadata": {},
   "outputs": [
    {
     "name": "stdout",
     "output_type": "stream",
     "text": [
      "P\n"
     ]
    }
   ],
   "source": [
    "s = 'PIKACHU'\n",
    "print(s[0])"
   ]
  },
  {
   "cell_type": "code",
   "execution_count": 10,
   "metadata": {},
   "outputs": [
    {
     "name": "stdout",
     "output_type": "stream",
     "text": [
      "KA\n",
      "PIKA\n",
      "CHU\n"
     ]
    }
   ],
   "source": [
    "print(s[2:4]) #(min, max]\n",
    "print(s[:4])\n",
    "print(s[4:])"
   ]
  },
  {
   "cell_type": "code",
   "execution_count": 11,
   "metadata": {},
   "outputs": [
    {
     "name": "stdout",
     "output_type": "stream",
     "text": [
      "U\n"
     ]
    }
   ],
   "source": [
    "print(s[-1])"
   ]
  },
  {
   "cell_type": "code",
   "execution_count": 12,
   "metadata": {},
   "outputs": [
    {
     "data": {
      "text/plain": [
       "'34'"
      ]
     },
     "execution_count": 12,
     "metadata": {},
     "output_type": "execute_result"
    }
   ],
   "source": [
    "\"3\"+\"4\""
   ]
  },
  {
   "cell_type": "code",
   "execution_count": 13,
   "metadata": {},
   "outputs": [
    {
     "name": "stdout",
     "output_type": "stream",
     "text": [
      "    PIKA, PIKA, PIKA, PIKACHUUUUUUUUUUU\n"
     ]
    }
   ],
   "source": [
    "s2 = \"    \" + (s[:4]+\", \")*3 + s + 'U'*10 \n",
    "print(s2)"
   ]
  },
  {
   "cell_type": "code",
   "execution_count": 14,
   "metadata": {},
   "outputs": [
    {
     "name": "stdout",
     "output_type": "stream",
     "text": [
      "PIKA, PIKA, PIKA, PIKACHUUUUUUUUUUU\n",
      "39\n"
     ]
    }
   ],
   "source": [
    "print(s2.strip())\n",
    "print(len(s2))"
   ]
  },
  {
   "cell_type": "code",
   "execution_count": 15,
   "metadata": {},
   "outputs": [
    {
     "name": "stdout",
     "output_type": "stream",
     "text": [
      "['flour', 100]\n"
     ]
    }
   ],
   "source": [
    "pancakeIngredients = ['flour', 100, 'egg', 1, 'milk', 0.3, 'oil']\n",
    "print(pancakeIngredients[:2])"
   ]
  },
  {
   "cell_type": "code",
   "execution_count": 16,
   "metadata": {},
   "outputs": [
    {
     "name": "stdout",
     "output_type": "stream",
     "text": [
      "['flour', 100, 'egg', 1, 'milk', 0.3, 'oil', 'syrup']\n"
     ]
    }
   ],
   "source": [
    "pancakeIngredients.append('syrup')\n",
    "print(pancakeIngredients) "
   ]
  },
  {
   "cell_type": "code",
   "execution_count": 17,
   "metadata": {},
   "outputs": [
    {
     "name": "stdout",
     "output_type": "stream",
     "text": [
      "['flour', 100, 'egg', 1, 'milk', 0.3, 'oil', 'syrup', ['bacon', 'bacon', 'bacon']]\n"
     ]
    }
   ],
   "source": [
    "pancakeIngredients.append(['bacon']*3)\n",
    "print(pancakeIngredients)"
   ]
  },
  {
   "cell_type": "code",
   "execution_count": 18,
   "metadata": {},
   "outputs": [
    {
     "name": "stdout",
     "output_type": "stream",
     "text": [
      "['bacon', 'bacon', 'bacon']\n"
     ]
    }
   ],
   "source": [
    "print(pancakeIngredients[8])"
   ]
  },
  {
   "cell_type": "code",
   "execution_count": 19,
   "metadata": {},
   "outputs": [
    {
     "name": "stdout",
     "output_type": "stream",
     "text": [
      "0.3\n"
     ]
    }
   ],
   "source": [
    "#dictionaries\n",
    "pancake_ingredients = {'flour': 100, 'egg': 1, 'milk': 0.3, 'oil': 0.5}\n",
    "pancake_ingredients['syrup'] = 0.2\n",
    "print(pancake_ingredients['milk'])"
   ]
  },
  {
   "cell_type": "code",
   "execution_count": 20,
   "metadata": {},
   "outputs": [
    {
     "ename": "KeyError",
     "evalue": "'milk'",
     "output_type": "error",
     "traceback": [
      "\u001b[0;31m---------------------------------------------------------------------------\u001b[0m",
      "\u001b[0;31mKeyError\u001b[0m                                  Traceback (most recent call last)",
      "\u001b[0;32m<ipython-input-20-6d76955b191b>\u001b[0m in \u001b[0;36m<module>\u001b[0;34m()\u001b[0m\n\u001b[1;32m      1\u001b[0m \u001b[0;32mdel\u001b[0m \u001b[0mpancake_ingredients\u001b[0m\u001b[0;34m[\u001b[0m\u001b[0;34m'milk'\u001b[0m\u001b[0;34m]\u001b[0m\u001b[0;34m\u001b[0m\u001b[0m\n\u001b[0;32m----> 2\u001b[0;31m \u001b[0mprint\u001b[0m\u001b[0;34m(\u001b[0m\u001b[0mpancake_ingredients\u001b[0m\u001b[0;34m[\u001b[0m\u001b[0;34m'milk'\u001b[0m\u001b[0;34m]\u001b[0m\u001b[0;34m)\u001b[0m\u001b[0;34m\u001b[0m\u001b[0m\n\u001b[0m",
      "\u001b[0;31mKeyError\u001b[0m: 'milk'"
     ]
    }
   ],
   "source": [
    "del pancake_ingredients['milk']\n",
    "print(pancake_ingredients['milk'])"
   ]
  },
  {
   "cell_type": "markdown",
   "metadata": {
    "collapsed": true
   },
   "source": [
    "# Control:\n",
    "- if/else and elif (else if)\n",
    "- for/while loops\n",
    "- try/except"
   ]
  },
  {
   "cell_type": "code",
   "execution_count": 21,
   "metadata": {},
   "outputs": [
    {
     "name": "stdout",
     "output_type": "stream",
     "text": [
      "Positive\n"
     ]
    }
   ],
   "source": [
    "x = 42\n",
    "if x < 0:\n",
    "    print('Negative')\n",
    "elif x == 0:\n",
    "    print('Zero')\n",
    "else:\n",
    "    print('Positive')"
   ]
  },
  {
   "cell_type": "code",
   "execution_count": 22,
   "metadata": {},
   "outputs": [
    {
     "name": "stdout",
     "output_type": "stream",
     "text": [
      "one 3\n",
      "two 3\n",
      "three 5\n"
     ]
    }
   ],
   "source": [
    "wordlist = ['one', 'two', 'three']\n",
    "for w in wordlist:\n",
    "    print(w, len(w))"
   ]
  },
  {
   "cell_type": "code",
   "execution_count": 23,
   "metadata": {},
   "outputs": [
    {
     "name": "stdout",
     "output_type": "stream",
     "text": [
      "0 one\n",
      "1 two\n",
      "2 three\n",
      "3 four\n",
      "4 five\n"
     ]
    }
   ],
   "source": [
    "a = ['one', 'two', 'three', 'four', 'five']\n",
    "for i in range(len(a)):\n",
    "    print(i, a[i])"
   ]
  },
  {
   "cell_type": "code",
   "execution_count": 24,
   "metadata": {},
   "outputs": [
    {
     "name": "stdout",
     "output_type": "stream",
     "text": [
      "Please define the variable first!\n"
     ]
    }
   ],
   "source": [
    "try:\n",
    "    print(my_unamed_variable)\n",
    "except NameError:\n",
    "    print(\"Please define the variable first!\")"
   ]
  },
  {
   "cell_type": "markdown",
   "metadata": {},
   "source": [
    "# Functions"
   ]
  },
  {
   "cell_type": "code",
   "execution_count": 25,
   "metadata": {},
   "outputs": [],
   "source": [
    "def fibonacci(n):\n",
    "    \"This function prints out all the numbers smaller than n belonging to the Fibonacci sequence\"\n",
    "    prev, cur = 0, 1\n",
    "    while prev < n:\n",
    "        print(prev)\n",
    "        prev, cur = cur, prev+cur"
   ]
  },
  {
   "cell_type": "code",
   "execution_count": 26,
   "metadata": {},
   "outputs": [
    {
     "name": "stdout",
     "output_type": "stream",
     "text": [
      "0\n",
      "1\n",
      "1\n",
      "2\n",
      "3\n",
      "5\n",
      "8\n",
      "13\n",
      "21\n",
      "34\n",
      "55\n",
      "89\n"
     ]
    }
   ],
   "source": [
    "fibonacci(100)"
   ]
  },
  {
   "cell_type": "code",
   "execution_count": 27,
   "metadata": {},
   "outputs": [
    {
     "name": "stdout",
     "output_type": "stream",
     "text": [
      "0\n",
      "1\n",
      "1\n",
      "2\n",
      "3\n",
      "5\n",
      "8\n",
      "13\n",
      "21\n",
      "34\n",
      "55\n",
      "89\n",
      "144\n",
      "233\n",
      "377\n",
      "610\n",
      "987\n"
     ]
    }
   ],
   "source": [
    "fibonacci(1000)"
   ]
  },
  {
   "cell_type": "markdown",
   "metadata": {},
   "source": [
    "# Object Oriented Programming"
   ]
  },
  {
   "cell_type": "code",
   "execution_count": 28,
   "metadata": {},
   "outputs": [],
   "source": [
    "## Classes\n",
    "class dessert(object):\n",
    "    \"\"\"Here goes the documentation.\n",
    "    It can become quite long\n",
    "    \"\"\"\n",
    "    def __init__(self, name, ingredients): # instance attributes\n",
    "        self.name = name\n",
    "        self.ingredients = ingredients\n",
    "    def add_more_ingredients(self, newIngredient): # a method\n",
    "        self.ingredients.append(newIngredient)\n",
    "    def cook(self): # pretend we are cooking\n",
    "        print(\"Cooking using \" + str(self.ingredients))"
   ]
  },
  {
   "cell_type": "code",
   "execution_count": 29,
   "metadata": {},
   "outputs": [
    {
     "name": "stdout",
     "output_type": "stream",
     "text": [
      "pancake\n",
      "Cooking using ['flour', 100, 'egg', 1, 'milk', 0.3, 'oil']\n"
     ]
    }
   ],
   "source": [
    "# instantiate a class with parameters\n",
    "dessert = dessert(\"pancake\",['flour', 100, 'egg', 1, 'milk', 0.3, 'oil'])\n",
    "print(dessert.name) # pancake\n",
    "dessert.cook() # calls cook method of instance dessert"
   ]
  },
  {
   "cell_type": "markdown",
   "metadata": {},
   "source": [
    "# Science\n"
   ]
  },
  {
   "cell_type": "code",
   "execution_count": 30,
   "metadata": {},
   "outputs": [],
   "source": [
    "import numpy as np\n",
    "np.random.randn?"
   ]
  },
  {
   "cell_type": "code",
   "execution_count": 31,
   "metadata": {},
   "outputs": [],
   "source": [
    "import matplotlib.pyplot as plt\n",
    "import matplotlib\n",
    "matplotlib.rcParams['font.size']=15 # this allows to enlarge the fonts in the images"
   ]
  },
  {
   "cell_type": "code",
   "execution_count": 32,
   "metadata": {},
   "outputs": [
    {
     "name": "stdout",
     "output_type": "stream",
     "text": [
      "The number of data points sampled are: 1000\n",
      "mean +/- std = 0.49 +/- 0.29\n"
     ]
    }
   ],
   "source": [
    "no_p = 1000\n",
    "random_vector = np.random.random_sample(size=no_p)\n",
    "print(\"The number of data points sampled are:\", len(random_vector))\n",
    "mean = np.mean(random_vector)\n",
    "std = np.std(random_vector)\n",
    "print(\"mean +/- std = {:.2f} +/- {:.2f}\".format(mean, std))"
   ]
  },
  {
   "cell_type": "code",
   "execution_count": 33,
   "metadata": {},
   "outputs": [
    {
     "data": {
      "image/png": "[encoded data removed]",
      "text/plain": [
       "<Figure size 432x288 with 1 Axes>"
      ]
     },
     "metadata": {
      "needs_background": "light"
     },
     "output_type": "display_data"
    }
   ],
   "source": [
    "bins = np.linspace(0,1,20)\n",
    "plt.hist(random_vector, bins = bins, rwidth=0.8)\n",
    "plt.xlabel(\"x\")\n",
    "plt.ylabel(\"Frequencies\")\n",
    "plt.show()"
   ]
  },
  {
   "cell_type": "code",
   "execution_count": 34,
   "metadata": {},
   "outputs": [
    {
     "data": {
      "image/png": "[encoded data removed]",
      "text/plain": [
       "<Figure size 432x288 with 1 Axes>"
      ]
     },
     "metadata": {
      "needs_background": "light"
     },
     "output_type": "display_data"
    }
   ],
   "source": [
    "plt.hist(random_vector, bins = bins, rwidth=0.8, density=True)\n",
    "plt.xlabel(\"x\")\n",
    "plt.ylabel(\"Density\")\n",
    "plt.show()"
   ]
  },
  {
   "cell_type": "markdown",
   "metadata": {},
   "source": [
    "## Central limit theorem\n",
    "\n",
    "We will show numerically that given sequences of i.i.d. random variables, their mean values are distributed like normal distribtuion. Precisely, we will consider the case where the random variable comes from rolling a dice with 6 faces. The possible outcomes are $X_i =  1,2,3,4,5$ and 6. "
   ]
  },
  {
   "cell_type": "code",
   "execution_count": 35,
   "metadata": {},
   "outputs": [],
   "source": [
    "dice = np.array([1,2,3,4,5,6])\n",
    "mu = np.mean(dice)\n",
    "var = np.mean((dice - mu)**2)\n",
    "sigma = np.sqrt(var)"
   ]
  },
  {
   "cell_type": "markdown",
   "metadata": {},
   "source": [
    "The probability to observe each outcome is 1/6. To check this we do sample_size = 50000 rolls to create."
   ]
  },
  {
   "cell_type": "code",
   "execution_count": 36,
   "metadata": {},
   "outputs": [
    {
     "data": {
      "image/png": "[encoded data removed]",
      "text/plain": [
       "<Figure size 432x288 with 1 Axes>"
      ]
     },
     "metadata": {
      "needs_background": "light"
     },
     "output_type": "display_data"
    }
   ],
   "source": [
    "p = 1/6\n",
    "sample_size = 50000\n",
    "random_vector = np.random.choice(dice, size=sample_size)\n",
    "bins = np.unique(random_vector)\n",
    "bins = list(bins) + [max(random_vector)+1]\n",
    "plt.hist(random_vector, bins = bins, \\\n",
    "         align='left', rwidth=0.8, density = True)\n",
    "plt.hlines(y = p, xmin = 0.45, xmax = 6.55, lw=4)\n",
    "plt.xlabel(\"x\")\n",
    "plt.ylabel(\"Density\")\n",
    "plt.show()"
   ]
  },
  {
   "cell_type": "markdown",
   "metadata": {},
   "source": [
    "To verify the central limit theorem, we need to compare the sum coming from the rolls with the gaussian distribution."
   ]
  },
  {
   "cell_type": "code",
   "execution_count": 37,
   "metadata": {},
   "outputs": [],
   "source": [
    "def normal_function(x, x0, sigma):\n",
    "    \"\"\"\n",
    "    This functions computes the probability to observe x \n",
    "    assuming that it follow a normal distribution with mean x0 and variance sigma**2.  \n",
    "    This function needs numpy to be imported, i.e. \n",
    "    import numpy as np\n",
    "    \"\"\"\n",
    "    return np.exp(-(x-x0)**2/(2*sigma**2)) / np.sqrt((2*np.pi*sigma**2))"
   ]
  },
  {
   "cell_type": "code",
   "execution_count": 38,
   "metadata": {},
   "outputs": [],
   "source": [
    "def plot_convergence(T_n, sigma, n):\n",
    "    \"\"\"\n",
    "    This function compares T_n with a\n",
    "    with a normal distribution N(0,sigma^2)\n",
    "    \"\"\"\n",
    "    bins = np.unique(T_n)\n",
    "    bins = list(bins) + [max(T_n)+1]\n",
    "    x = np.linspace(num=100, start=min(T_n), stop=max(T_n))\n",
    "    gauss = normal_function(x = x, x0 = 0, sigma = sigma)\n",
    "    #\n",
    "    plt.hist(T_n, bins = bins, label = str(n)+\" rolls\", \\\n",
    "                align='left', rwidth=0.8, density = True)\n",
    "    plt.plot(x, gauss, label=\"gaussian\")\n",
    "    plt.title(\"After summing \"+str(n)+\" times\")\n",
    "    plt.xlabel(\"x\")\n",
    "    plt.ylabel(\"Density\")\n",
    "    plt.legend()\n",
    "    plt.show()"
   ]
  },
  {
   "cell_type": "code",
   "execution_count": 39,
   "metadata": {},
   "outputs": [
    {
     "data": {
      "image/png": "[encoded data removed]",
      "text/plain": [
       "<Figure size 432x288 with 1 Axes>"
      ]
     },
     "metadata": {
      "needs_background": "light"
     },
     "output_type": "display_data"
    },
    {
     "data": {
      "image/png": "[encoded data removed]",
      "text/plain": [
       "<Figure size 432x288 with 1 Axes>"
      ]
     },
     "metadata": {
      "needs_background": "light"
     },
     "output_type": "display_data"
    },
    {
     "data": {
      "image/png": "[encoded data removed]",
      "text/plain": [
       "<Figure size 432x288 with 1 Axes>"
      ]
     },
     "metadata": {
      "needs_background": "light"
     },
     "output_type": "display_data"
    }
   ],
   "source": [
    "random_vector = np.random.choice(dice, size=sample_size)\n",
    "checks= [2,3,10]\n",
    "for n in range(1,max(checks)+1):\n",
    "    if n in checks:\n",
    "        S_n = (random_vector / n )\n",
    "        T_n = (S_n - mu) * np.sqrt(n)\n",
    "        plot_convergence(T_n, sigma, n)\n",
    "    random_vector += np.random.choice(dice, size=sample_size)"
   ]
  },
  {
   "cell_type": "code",
   "execution_count": null,
   "metadata": {},
   "outputs": [],
   "source": []
  }
 ],
 "metadata": {
  "kernelspec": {
   "display_name": "Python 3",
   "language": "python",
   "name": "python3"
  },
  "language_info": {
   "codemirror_mode": {
    "name": "ipython",
    "version": 3
   },
   "file_extension": ".py",
   "mimetype": "text/x-python",
   "name": "python",
   "nbconvert_exporter": "python",
   "pygments_lexer": "ipython3",
   "version": "3.7.0"
  }
 },
 "nbformat": 4,
 "nbformat_minor": 2
}
