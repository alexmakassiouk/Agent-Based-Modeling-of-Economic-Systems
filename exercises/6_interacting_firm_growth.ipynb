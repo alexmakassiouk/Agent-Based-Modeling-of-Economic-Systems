{
 "cells": [
  {
   "cell_type": "markdown",
   "metadata": {},
   "source": [
    "# Exercise 6: Firm growth with interactivity\n",
    "\n",
    "## Section 1: Defining the model\n",
    "\n",
    "\n",
    "1. **Partner Selection:** Firms interact if their relative size meets the following condition:\n",
    "$$ \\frac{1}{\\delta} \\cdot x_i \\leq x_j \\leq \\delta \\cdot x_i $$\n",
    "When implementing this condition take the perspective of a firm looking for a partner.\n",
    "Sampling two firms $i$ and $j$ from the population at random and checking the condition is very inefficient.\n",
    "\n",
    "\n",
    "2. **Transaction Dynamics:** The winning probability in a transaction between firms $i$ and $j$ is:\n",
    "$$ P(i \\text{wins}) = \\frac{x_i}{x_i + x_j} $$\n",
    "\n",
    "\n",
    "3. **Resource Exchange:** Upon winning, \"resources\", i.e. part of their size are transferred from the loser to the winner. The amount of resources transferred is $ x_\\text{loser} \\gamma$ and  $\\gamma \\in [0, 1]$\n"
   ]
  },
  {
   "cell_type": "code",
   "execution_count": null,
   "metadata": {},
   "outputs": [],
   "source": [
    "import numpy as np\n",
    "from mesa import Agent, Model\n",
    "from mesa.time import RandomActivation\n",
    "from mesa import DataCollector"
   ]
  },
  {
   "cell_type": "code",
   "execution_count": null,
   "metadata": {},
   "outputs": [],
   "source": [
    "class Firm(Agent):\n",
    "    \"\"\"A Firm agent with a given size, part of an economic model.\"\"\"\n",
    "\n",
    "    def __init__(self, unique_id: int, model: \"FirmModel\", size: float):\n",
    "        super().__init__(unique_id, model)\n",
    "        self.size = size\n",
    "\n",
    "    def step(self) -> None:\n",
    "        # your agent's actions\n",
    "        pass\n",
    "\n",
    "    def calculate_win_probability(self, partner: \"Firm\") -> float:\n",
    "        # compute the win probability based on the size of the two firms\n",
    "        pass\n",
    "\n",
    "    def pay(self, partner: \"Firm\") -> None:\n",
    "        \"\"\"Transfer a fraction of the firm's size to a partner firm.\"\"\"\n",
    "        pass\n",
    "\n",
    "    def select_partner(self) -> \"Firm\":\n",
    "        \"\"\"Select an other firm from the model that is within this firm's size interval (self) and return it.\"\"\"\n",
    "        pass\n",
    "\n",
    "\n",
    "class FirmModel(Model):\n",
    "    \"\"\"A model simulating an economy with a variable number of firms.\"\"\"\n",
    "\n",
    "    def __init__(\n",
    "        self,\n",
    "        N: int,\n",
    "        mu: float,\n",
    "        sigma: float,\n",
    "        delta: float,\n",
    "        gamma: float,\n",
    "        large_firm_advantage: bool = True,\n",
    "    ):\n",
    "        super().__init__()\n",
    "        self.num_agents = N\n",
    "        self.delta = delta\n",
    "        self.gamma = gamma\n",
    "        self.large_firm_advantage = large_firm_advantage\n",
    "        self.schedule = RandomActivation(self)\n",
    "        self.firms = []\n",
    "\n",
    "        for i in range(self.num_agents):\n",
    "            size = np.random.lognormal(mu, sigma)\n",
    "            firm = Firm(i, self, size)\n",
    "            self.schedule.add(firm)\n",
    "            self.firms.append(firm)\n",
    "\n",
    "        self.datacollector = DataCollector(\n",
    "            agent_reporters={\"Size\": lambda a: a.size},\n",
    "            model_reporters={\"Firm_sizes\": lambda m: m.firm_sizes()},\n",
    "        )\n",
    "\n",
    "    def firm_sizes(self) -> np.ndarray:\n",
    "        return np.array([firm.size for firm in self.firms])\n",
    "\n",
    "    def step(self) -> None:\n",
    "        self.datacollector.collect(self)\n",
    "        self.schedule.step()"
   ]
  },
  {
   "cell_type": "markdown",
   "metadata": {},
   "source": [
    "## Section 2: Adapt the model such that the smaller firm has a higher winning probability."
   ]
  },
  {
   "cell_type": "code",
   "execution_count": null,
   "metadata": {},
   "outputs": [],
   "source": [
    "# your code here"
   ]
  },
  {
   "cell_type": "markdown",
   "metadata": {},
   "source": [
    "## Run the simulation with the following parameters:"
   ]
  },
  {
   "cell_type": "code",
   "execution_count": null,
   "metadata": {},
   "outputs": [],
   "source": [
    "from tqdm import tqdm, trange\n",
    "import random\n",
    "\n",
    "# Example usage\n",
    "N = 1000  # Number of firms\n",
    "m = 6.0  # Mean of the log-normal distribution\n",
    "s = 1.5  # Standard deviation of the log-normal distribution\n",
    "delta = 2  # Range factor for interaction\n",
    "gamma = 0.1  # Size exchange in interactions\n",
    "\n",
    "# set seed for reproducibility\n",
    "np.random.seed(0)\n",
    "random.seed(0)\n",
    "model_winner_take_all = FirmModel(N, m, s, delta, gamma, large_firm_advantage=True)\n",
    "\n",
    "for i in trange(500):\n",
    "    model_winner_take_all.step()"
   ]
  },
  {
   "cell_type": "markdown",
   "metadata": {},
   "source": [
    "## Section 3: Explore the parameter space and make interesting plots.\n",
    "\n",
    "For example:\n",
    "- Distribution of firm sizes on y and time on x axis\n",
    "- Distribution of firm sizes on y and $\\gamma$ on x axis\n",
    "- Distribution of firm sizes on y and $\\delta$ on x axis\n",
    "- Distribution of firm sizes on y and $\\sigma$ on x axis"
   ]
  },
  {
   "cell_type": "code",
   "execution_count": null,
   "metadata": {},
   "outputs": [],
   "source": [
    "import matplotlib.pyplot as plt"
   ]
  }
 ],
 "metadata": {
  "kernelspec": {
   "display_name": "edc",
   "language": "python",
   "name": "python3"
  },
  "language_info": {
   "codemirror_mode": {
    "name": "ipython",
    "version": 3
   },
   "file_extension": ".py",
   "mimetype": "text/x-python",
   "name": "python",
   "nbconvert_exporter": "python",
   "pygments_lexer": "ipython3",
   "version": "3.11.5"
  }
 },
 "nbformat": 4,
 "nbformat_minor": 2
}
