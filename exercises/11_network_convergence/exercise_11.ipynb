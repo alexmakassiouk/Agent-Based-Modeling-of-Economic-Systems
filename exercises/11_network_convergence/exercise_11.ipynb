{
 "cells": [
  {
   "cell_type": "code",
   "execution_count": null,
   "metadata": {
    "metadata": {}
   },
   "outputs": [],
   "source": [
    "from tqdm import tqdm\n",
    "\n",
    "tqdm.monitor_interval = 0  # fix problems with sudden breaks in progress bar\n",
    "\n",
    "import matplotlib.pyplot as plt\n",
    "import visualization_functions as vf\n",
    "from mesamodel import World\n",
    "\n",
    "import networkx as nx"
   ]
  },
  {
   "cell_type": "markdown",
   "metadata": {},
   "source": [
    "## Section 1: Show that severance costs affect how the network converges, but not the equilibrium state\n",
    "\n",
    "### Hint\n",
    "Start with 0 severance costs and show that the network converges and is pairwise stable.\n",
    "Then use the resulting network `World.net` and initialise a new world with severance costs using the stable network as the initial network."
   ]
  },
  {
   "cell_type": "code",
   "execution_count": null,
   "metadata": {
    "metadata": {}
   },
   "outputs": [],
   "source": [
    "world = World(\n",
    "    num_agents=25,\n",
    "    cost=0.25,\n",
    "    severance_cost=0.1,\n",
    "    deletion_prob=0,\n",
    "    mutual_create=True,\n",
    "    mutual_delete=False,\n",
    "    max_steps=100,\n",
    "    update_type=\"best_choice\",\n",
    ")"
   ]
  },
  {
   "cell_type": "code",
   "execution_count": null,
   "metadata": {
    "metadata": {}
   },
   "outputs": [],
   "source": [
    "# world.random.seed(2)\n",
    "world.run_model()\n",
    "world.is_pairwise_stable()"
   ]
  },
  {
   "cell_type": "code",
   "execution_count": null,
   "metadata": {
    "metadata": {}
   },
   "outputs": [],
   "source": [
    "vf.plot_network(world)"
   ]
  },
  {
   "cell_type": "markdown",
   "metadata": {},
   "source": [
    "## Section 2: Show differences in utility due to network position\n",
    "\n",
    "Show that the position of an agent in the network affects their utility from a change, despite all agents in the same component having the same utiliy. \n",
    "\n",
    "### Hint\n",
    "To do this, you will need to provide explicitly a network to the `World` class.\n",
    "You can this as follows:"
   ]
  },
  {
   "cell_type": "code",
   "execution_count": null,
   "metadata": {
    "metadata": {}
   },
   "outputs": [],
   "source": [
    "exmample_world = World(\n",
    "    num_agents=5,\n",
    "    cost=0.25,\n",
    "    severance_cost=0.1,\n",
    "    deletion_prob=0,\n",
    "    mutual_create=True,\n",
    "    mutual_delete=False,\n",
    "    max_steps=100,\n",
    "    update_type=\"best_choice\",\n",
    ")\n",
    "\n",
    "# create a network with 5 agents in a chain\n",
    "exmample_world.net.add_edge(0, 1)\n",
    "exmample_world.net.add_edge(1, 2)\n",
    "exmample_world.net.add_edge(2, 3)\n",
    "exmample_world.net.add_edge(3, 4)"
   ]
  },
  {
   "cell_type": "markdown",
   "metadata": {},
   "source": [
    "**Question 1:** In this network, what is the benefit of agent 1 to deleting a link to agent 2? And what is the benefit of agent 2 to deleting a link to agent 1? Why the difference? (Note agents are 0-indexed)\n",
    "\n",
    "**Answer 1:**"
   ]
  },
  {
   "cell_type": "code",
   "execution_count": null,
   "metadata": {
    "metadata": {}
   },
   "outputs": [],
   "source": []
  },
  {
   "cell_type": "markdown",
   "metadata": {},
   "source": [
    "**Question 2:** Define a network where the benefit of deleting a link is the same for all agents."
   ]
  },
  {
   "cell_type": "code",
   "execution_count": null,
   "metadata": {
    "metadata": {}
   },
   "outputs": [],
   "source": []
  },
  {
   "cell_type": "markdown",
   "metadata": {},
   "source": [
    "**Question 3:** Define a network where the benefit of deleting a link is the different for all agents (different from the network in Question 1). What is the fundamental reason for this difference?"
   ]
  },
  {
   "cell_type": "code",
   "execution_count": null,
   "metadata": {
    "metadata": {}
   },
   "outputs": [],
   "source": []
  }
 ],
 "metadata": {
  "kernelspec": {
   "display_name": "Python 3",
   "language": "python",
   "name": "python3"
  },
  "language_info": {
   "codemirror_mode": {
    "name": "ipython",
    "version": 3
   },
   "file_extension": ".py",
   "mimetype": "text/x-python",
   "name": "python",
   "nbconvert_exporter": "python",
   "pygments_lexer": "ipython3",
   "version": "3.11.5"
  }
 },
 "nbformat": 4,
 "nbformat_minor": 2
}
