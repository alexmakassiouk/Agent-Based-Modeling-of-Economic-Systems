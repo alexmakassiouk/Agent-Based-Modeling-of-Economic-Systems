{
 "cells": [
  {
   "cell_type": "markdown",
   "metadata": {},
   "source": [
    "# Writing a simple AMB from idea to implementation\n",
    "\n",
    "This code is not a real ABM, it was written live at the tutorial to show how to go from a simple idea to a Mesa implementation.\n",
    "\n",
    "### Initial Sketch of idea (implemented differently)\n",
    "\n",
    "- People\n",
    "    - happiness: int\n",
    "    - friends: list\n",
    "    - enemies: list\n",
    "    - interact (random person):\n",
    "        - if random person is in friends:\n",
    "            - satisfaction += 2\n",
    "        - if random person is in enemies:\n",
    "            - satisfaction -= 1\n",
    "\n",
    "- Measure we care about\n",
    "    - average satisfaction\n",
    "    \n",
    "- Initialisation:\n",
    "    - 100 people\n",
    "    - random sample of 3 friends and 3 enemies\n",
    "    \n"
   ]
  },
  {
   "cell_type": "code",
   "execution_count": 1,
   "metadata": {},
   "outputs": [],
   "source": [
    "import mesa"
   ]
  },
  {
   "cell_type": "code",
   "execution_count": 2,
   "metadata": {},
   "outputs": [],
   "source": [
    "class Person(mesa.Agent):\n",
    "    def __init__(self, unique_id, model):\n",
    "        super().__init__(unique_id, model)\n",
    "        self.happiness = 1\n",
    "        self.friends = []\n",
    "        self.enemies = []\n",
    "\n",
    "    def add_friend(self):\n",
    "        self.model.random.shuffle(self.model.agents)\n",
    "\n",
    "        for pf in self.model.agents:\n",
    "            if pf != self and pf not in self.friends and pf not in self.enemies:\n",
    "                self.friends.append(pf)\n",
    "                break\n",
    "\n",
    "    def add_enemy(self):\n",
    "        self.model.random.shuffle(self.model.agents)\n",
    "\n",
    "        for pf in self.model.agents:\n",
    "            if pf != self and pf not in self.friends and pf not in self.enemies:\n",
    "                self.enemies.append(pf)\n",
    "                break\n",
    "\n",
    "    def step(self):\n",
    "        # choose either a friend or an enemy\n",
    "        if self.model.random.random() < 0.5:\n",
    "            other_person = self.model.random.choice(self.friends)\n",
    "            self.happiness += other_person.happiness\n",
    "        else:\n",
    "            other_person = self.model.random.choice(self.enemies)\n",
    "            self.happiness -= other_person.happiness"
   ]
  },
  {
   "cell_type": "code",
   "execution_count": 3,
   "metadata": {},
   "outputs": [],
   "source": [
    "class PersonModel(mesa.Model):\n",
    "    def __init__(self, N):\n",
    "        super().__init__()\n",
    "        self.num_agents = N\n",
    "        self.schedule = mesa.time.RandomActivation(self)\n",
    "        self.running = True\n",
    "        self.agents = []\n",
    "\n",
    "        for i in range(self.num_agents):\n",
    "            a = Person(i, self)\n",
    "            self.agents.append(a)\n",
    "            self.schedule.add(a)\n",
    "\n",
    "        for agent in self.schedule.agents:\n",
    "            for i in range(5):\n",
    "                agent.add_friend()\n",
    "                agent.add_enemy()\n",
    "\n",
    "    def step(self):\n",
    "        self.schedule.step()"
   ]
  },
  {
   "cell_type": "code",
   "execution_count": 7,
   "metadata": {},
   "outputs": [
    {
     "name": "stderr",
     "output_type": "stream",
     "text": [
      "/var/folders/6k/5hmkfvg15c96n_sg9wvgtgzm0000gn/T/ipykernel_43268/2032826190.py:7: UserWarning: You are trying to set model.agents. In a next release, this attribute is used by MESA itself so you cannot use it directly anymore.Please adjust your code to use a different attribute name for custom agent storage\n",
      "  self.agents = []\n"
     ]
    }
   ],
   "source": [
    "my_model = PersonModel(1000)\n",
    "for i in range(30):\n",
    "    my_model.step()"
   ]
  },
  {
   "cell_type": "code",
   "execution_count": 8,
   "metadata": {},
   "outputs": [],
   "source": [
    "final_happinesses = [agent.happiness for agent in my_model.agents]"
   ]
  },
  {
   "cell_type": "code",
   "execution_count": 9,
   "metadata": {},
   "outputs": [
    {
     "data": {
      "text/plain": [
       "(array([  1.,   0.,   0.,   1.,   2.,   1.,   3.,   3.,  13.,  10.,  30.,\n",
       "         39.,  89., 112., 134., 131., 132., 108.,  85.,  56.,  21.,  10.,\n",
       "          5.,   7.,   4.,   1.,   0.,   0.,   1.,   1.]),\n",
       " array([-74049689.        , -69176675.1       , -64303661.2       ,\n",
       "        -59430647.3       , -54557633.4       , -49684619.5       ,\n",
       "        -44811605.59999999, -39938591.7       , -35065577.8       ,\n",
       "        -30192563.9       , -25319550.        , -20446536.09999999,\n",
       "        -15573522.2       , -10700508.3       ,  -5827494.39999999,\n",
       "          -954480.5       ,   3918533.40000001,   8791547.30000001,\n",
       "         13664561.2       ,  18537575.10000001,  23410589.        ,\n",
       "         28283602.90000001,  33156616.80000001,  38029630.7       ,\n",
       "         42902644.60000001,  47775658.50000001,  52648672.40000001,\n",
       "         57521686.30000001,  62394700.20000002,  67267714.10000002,\n",
       "         72140728.        ]),\n",
       " <BarContainer object of 30 artists>)"
      ]
     },
     "execution_count": 9,
     "metadata": {},
     "output_type": "execute_result"
    },
    {
     "data": {
      "image/png": "[encoded data removed]",
      "text/plain": [
       "<Figure size 640x480 with 1 Axes>"
      ]
     },
     "metadata": {},
     "output_type": "display_data"
    }
   ],
   "source": [
    "# plot the distribution of happinesses\n",
    "import matplotlib.pyplot as plt\n",
    "\n",
    "plt.hist(final_happinesses, bins=30)"
   ]
  },
  {
   "cell_type": "code",
   "execution_count": null,
   "metadata": {},
   "outputs": [],
   "source": []
  }
 ],
 "metadata": {
  "kernelspec": {
   "display_name": "edc",
   "language": "python",
   "name": "python3"
  },
  "language_info": {
   "codemirror_mode": {
    "name": "ipython",
    "version": 3
   },
   "file_extension": ".py",
   "mimetype": "text/x-python",
   "name": "python",
   "nbconvert_exporter": "python",
   "pygments_lexer": "ipython3",
   "version": "3.11.5"
  }
 },
 "nbformat": 4,
 "nbformat_minor": 2
}
