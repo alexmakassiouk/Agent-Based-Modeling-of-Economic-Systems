{
 "cells": [
  {
   "cell_type": "markdown",
   "metadata": {},
   "source": [
    "# Week 10 -- Severance Costs and Leading Eigenvalue Utility\n",
    "\n",
    "This tutorial is for you the extend the model from last week using either your solution or the provided solution. The goal is to add severance costs to the model and to use the leading eigenvalue utility function.\n",
    "\n",
    "\n",
    "## Section 1: Update the Utility\n",
    "Adapt the `Agent` class to use the utility function computed as in the slides, i.e., the leading eigenvalue of the utility function. The utility function is given by: \n",
    "\n",
    "$$\n",
    "u_i^* = \\lim_{t\\to \\infty} u_i(t) = \\lambda_{PF}(G_{i})- c k_i\n",
    "$$\n",
    "\n",
    "For details refer to the slides."
   ]
  },
  {
   "cell_type": "markdown",
   "metadata": {},
   "source": [
    "## Section 2: Add Severance Costs\n",
    "\n",
    "Add severance costs to the model. Severance costs are paid when an agent decides to cut a link, look at the slides for the details."
   ]
  },
  {
   "cell_type": "markdown",
   "metadata": {},
   "source": [
    "## Section 3: Plot results\n",
    "\n",
    "Plot the graphs for different severance costs and compare them to the results from last week."
   ]
  }
 ],
 "metadata": {
  "language_info": {
   "name": "python"
  }
 },
 "nbformat": 4,
 "nbformat_minor": 2
}
