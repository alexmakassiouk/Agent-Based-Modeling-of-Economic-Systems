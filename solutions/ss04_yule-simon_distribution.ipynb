{
 "cells": [
  {
   "cell_type": "markdown",
   "metadata": {},
   "source": [
    "# Exercise 4: Yule-Simon distribution\n",
    "\n",
    "In this exercise we will look at the Yule-Simon and how to generate it using an Agent Based Model (ABM) implemented in Python using the `mesa` library.\n",
    "\n",
    "The process to generate a Yule-Simon distribution describing firm sizes is as follows:\n",
    "\n",
    "1. Start with a single firm of size 1.\n",
    "2. At each time step, a new agent enters the market.\n",
    "3. The agent may either decide to start a new firm with probability $p$ or join an existing firm with probability $1-p$ and then choose a firm to join with probability proportional to the size of the firm.\n",
    "\n"
   ]
  },
  {
   "cell_type": "markdown",
   "metadata": {},
   "source": [
    "## Section 1: Read the \"Introduction to Mesa\" notebook\n",
    "\n",
    "Before attempting this exercise, have a look at the companion Notebook \"Introduction to Mesa\" to get familiar with the library."
   ]
  },
  {
   "cell_type": "markdown",
   "metadata": {},
   "source": [
    "## Section 2: Implement the Yule-Simon model\n",
    "\n",
    "Specifically implement the following three classes:\n",
    "\n",
    "1. `Firm`: This class represent a firm. Its most important attribute is size.\n",
    "\n",
    "2. `NewAgent`: This class represent a new agent entering the market.\n",
    "\n",
    "3. `World`: This class should represent the world."
   ]
  },
  {
   "cell_type": "code",
   "execution_count": 1,
   "metadata": {},
   "outputs": [],
   "source": [
    "import mesa\n",
    "import numpy as np"
   ]
  },
  {
   "cell_type": "code",
   "execution_count": 9,
   "metadata": {},
   "outputs": [],
   "source": [
    "np.random.seed(41)\n",
    "\n",
    "class Firm(mesa.Agent):\n",
    "    \"\"\"A firm that can hire employees.\"\"\"\n",
    "\n",
    "    def __init__(self, unique_id: int, model: \"World\", first_employee: \"NewAgent\"):\n",
    "        super().__init__(unique_id, model)\n",
    "        self.employees: list[mesa.Agent] = [first_employee]\n",
    "        self.size = 1  # Start with a size of 1\n",
    "\n",
    "    def hire(self, agent: \"NewAgent\"):\n",
    "        \"\"\"Hire a new employee.\n",
    "        \n",
    "        Tasks:\n",
    "        1. Append the 'agent' to the 'self.employees' list.\n",
    "        2. Increase 'self.size' by 1.\n",
    "        3. Set the 'agent.employer' to 'self'.\n",
    "        \"\"\"\n",
    "        # your code here\n",
    "        self.employees.append(agent)\n",
    "        self.size+=1\n",
    "        agent.employer = self\n",
    "    \n",
    "    def fire(self, agent: \"NewAgent\"):\n",
    "        \"\"\"Remove the specified employee from list of employees\"\"\"\n",
    "        self.employees.remove(agent)\n",
    "        self.size-=1\n",
    "\n",
    "\n",
    "class NewAgent(mesa.Agent):\n",
    "    \"\"\"An agent that can either found a new firm or join an existing one.\"\"\"\n",
    "\n",
    "    def __init__(self, unique_id: int, model: \"World\", max_size_mu=100, max_size_sigma=10):\n",
    "        super().__init__(unique_id, model)\n",
    "        self.employer: Firm | None = None  # Initially, the agent doesn't have an employer\n",
    "\n",
    "        # 50% chance that an employee is indifferent about working in a large firm\n",
    "        self.size_indifferent = np.random.uniform(0,1) < 0.5\n",
    "\n",
    "        if self.size_indifferent:\n",
    "            self.max_size_preference = np.random.normal(loc=10000, scale=max_size_sigma) # Lazy implementation / time constraint\n",
    "        else:\n",
    "            # If employee prefers to work in a smaller firm, we assign a normally distributed preference for the maximum size\n",
    "            self.max_size_preference = np.random.normal(loc=max_size_mu, scale=max_size_sigma)\n",
    "\n",
    "    def create_firm(self):\n",
    "        \"\"\"Found a new firm with the agent as the first employee.\n",
    "        \n",
    "        Use the 'create_firm' method from the 'World' model.\n",
    "        \"\"\"\n",
    "        # your code here\n",
    "        self.model.create_firm(self)\n",
    "\n",
    "\n",
    "    def join_firm(self, firm: Firm):\n",
    "        \"\"\"Join an existing firm.\n",
    "        \n",
    "        Use the 'hire' method from the 'Firm' class.\n",
    "        \"\"\"\n",
    "        # your code here\n",
    "        firm.hire(self)\n",
    "\n",
    "    def find_new_firm(self): \n",
    "        \"\"\"Employee has quitted a firm because it was too large, and now must find a new firm in range of size preference\n",
    "            Or become and entrepreneur after being too long in the corporate world. TODO: This probability could be increased to a larger one\n",
    "        \"\"\"\n",
    "        firm_candidate = self.model.sample_firm()\n",
    "        prob = np.random.uniform(low=0, high=1)\n",
    "        while firm_candidate.size > self.max_size_preference and prob>self.model.start_up_prob:\n",
    "            firm_candidate = self.model.sample_firm() # Resample to find an appropriate size of firm\n",
    "            prob = np.random.uniform(low=0, high=1)\n",
    "        if prob<= self.model.start_up_prob:\n",
    "            self.create_firm()\n",
    "        else:\n",
    "            self.join_firm(firm_candidate)\n",
    "\n",
    "    def step(self):\n",
    "        \"\"\"Define the agent's actions per step.\n",
    "        \n",
    "        Each step, the agent decides based on a probability (start_up_prob) whether to found a new firm \n",
    "        or join an existing one. Use the 'create_firm' method for founding a new firm and 'join_firm' \n",
    "        for joining an existing firm. Both methods are part of this class; 'sample_firm' is found in the 'World' class.\n",
    "        \"\"\"\n",
    "        # your code here\n",
    "        \n",
    "        if self.model.employees_quit_model:\n",
    "            self.find_new_firm() # Make sure to not join too large firm for own preference\n",
    "        else:\n",
    "            prob = np.random.uniform(low=0, high=1)\n",
    "            if prob<=self.model.start_up_prob:\n",
    "                self.create_firm()\n",
    "            else:\n",
    "                self.join_firm(self.model.sample_firm())\n",
    "\n",
    "    def quit_firm(self):\n",
    "        if self.employer:\n",
    "            # Record data\n",
    "            if self.employer in self.model.resigned_employees_data.keys():\n",
    "                self.model.resigned_employees_data[self.employer].append(self)\n",
    "            else:\n",
    "                self.model.resigned_employees_data[self.employer] = [self]  \n",
    "            \n",
    "            # Remove employee\n",
    "            self.employer.fire(self)\n",
    "            self.employer = None\n",
    "\n",
    "            if self.model.employees_quit_model:\n",
    "                self.find_new_firm()\n",
    "            else:\n",
    "                prob = np.random.uniform(low=0, high=1)\n",
    "                if prob<=self.model.start_up_prob:\n",
    "                    self.create_firm()\n",
    "                else:\n",
    "                    self.join_firm(self.model.sample_firm())\n",
    "\n",
    "\n",
    "## THIS CODE IS PROVIDED. YOU may want to adapt it for Section 3\n",
    "class World(mesa.Model):\n",
    "    \"\"\"The model representing the world containing firms and agents.\"\"\"\n",
    "\n",
    "    def __init__(self, initial_agents=10, start_up_prob=0.1, collect_every=-1, employees_quit_model=False, max_size_mu=60, max_size_sigma=20):\n",
    "        super().__init__()\n",
    "        self.start_up_prob = start_up_prob  # Probability of starting a new firm\n",
    "        self.firms = []  # List of firms\n",
    "        self.collect_every = collect_every\n",
    "        self.resigned_employees_data = {}\n",
    "        self.schedule = mesa.time.BaseScheduler(self)\n",
    "        self.employees_quit_model = employees_quit_model\n",
    "        \n",
    "        self.datacollector = mesa.datacollection.DataCollector(\n",
    "            model_reporters={\"Firm sizes\": self.collect_firm_sizes}\n",
    "        )\n",
    "\n",
    "        # Initialize agents\n",
    "        for i in range(initial_agents):\n",
    "            agent = NewAgent(i, self, max_size_mu=max_size_mu, max_size_sigma=max_size_sigma)\n",
    "            self.schedule.add(agent)  # Important: add agents to the schedule\n",
    "\n",
    "        # Ensure at least one firm exists at the start\n",
    "        self.create_firm(first_employee=self.schedule.agents[0])\n",
    "\n",
    "    def create_firm(self, first_employee: NewAgent):\n",
    "        \"\"\"Create a new firm.\"\"\"\n",
    "        next_id = len(self.firms)\n",
    "        firm = Firm(next_id, self, first_employee)\n",
    "        self.firms.append(firm)\n",
    "\n",
    "    def sample_firm(self):\n",
    "        \"\"\"Sample a firm proportionally to its size.\"\"\"\n",
    "        firm_sizes = [firm.size for firm in self.firms]\n",
    "        total_size = sum(firm_sizes)\n",
    "        probabilities = [size / total_size for size in firm_sizes]\n",
    "        return self.random.choices(self.firms, weights=probabilities)[0]\n",
    "\n",
    "    def full_employment(self):\n",
    "        \"\"\"Check if all agents are employed.\"\"\"\n",
    "        return all(agent.employer is not None for agent in self.schedule.agents)\n",
    "    \n",
    "    def collect_firm_sizes(self):\n",
    "        \"\"\"Collect the sizes of all firms.\"\"\"\n",
    "        return [firm.size for firm in self.firms]\n",
    "\n",
    "    def step(self):\n",
    "        \"\"\"Advance the model by one step, activating only one agent.\"\"\"\n",
    "        if self.employees_quit_model:\n",
    "            for firm in self.firms:\n",
    "                for agent in firm.employees:\n",
    "                    if agent.max_size_preference < firm.size:\n",
    "                        agent.quit_firm()\n",
    "                        if agent not in self.schedule.agents:\n",
    "                            self.schedule.agents.add(agent)\n",
    "        \n",
    "        if len(self.schedule.agents) > 0:\n",
    "            # Select a random agent to activate\n",
    "            agent_to_activate = self.random.choice(self.schedule.agents)\n",
    "            agent_to_activate.step()\n",
    "\n",
    "            # Remove the agent after its step; it should not be activated again\n",
    "            # if not self.employees_quit_model:\n",
    "            self.schedule.remove(agent_to_activate)\n",
    "            \n",
    "            if self.collect_every == -1 and self.full_employment(): # collect only at the end\n",
    "                self.datacollector.collect(self)\n",
    "            elif self.collect_every >= 1 and self.schedule.steps % self.collect_every == 0:\n",
    "                self.datacollector.collect(self)\n",
    "\n",
    "            # End the simulation if all agents are employed\n",
    "            if self.full_employment():\n",
    "                self.running = False"
   ]
  },
  {
   "cell_type": "markdown",
   "metadata": {},
   "source": [
    "### Run and plot the firm size distribution"
   ]
  },
  {
   "cell_type": "code",
   "execution_count": 3,
   "metadata": {},
   "outputs": [],
   "source": [
    "import matplotlib.pyplot as plt"
   ]
  },
  {
   "cell_type": "code",
   "execution_count": 10,
   "metadata": {},
   "outputs": [
    {
     "data": {
      "image/png": "[encoded data removed]",
      "text/plain": [
       "<Figure size 640x480 with 1 Axes>"
      ]
     },
     "metadata": {},
     "output_type": "display_data"
    }
   ],
   "source": [
    "firm_model = World(3000, start_up_prob=0.2)\n",
    "firm_model.run_model()\n",
    "\n",
    "firm_sizes = firm_model.datacollector.get_model_vars_dataframe()[\"Firm sizes\"].values\n",
    "def plot_firm_sizes(firm_sizes, title: str):\n",
    "    plt.hist(firm_sizes, bins=np.logspace(0, 3, 30))\n",
    "    plt.xscale(\"log\")\n",
    "    plt.yscale(\"log\")\n",
    "    plt.xlabel(\"Firm size\")\n",
    "    plt.title(title)\n",
    "    plt.show()\n",
    "\n",
    "plot_firm_sizes(firm_sizes, \"Final firm sizes for normal model\")"
   ]
  },
  {
   "cell_type": "code",
   "execution_count": 11,
   "metadata": {},
   "outputs": [],
   "source": [
    "def print_model_info(model: World):\n",
    "    print(\"Largest firm size: \\n\", max([firm.size for firm in model.firms]))\n",
    "    print(\"Smallest firm size: \\n\", min([firm.size for firm in model.firms]))\n",
    "    print(\"Number of firms of size 1: \\n\", len([firm for firm in model.firms if firm.size == 1]))\n",
    "    print(\"Number of firms: \\n\", len(model.firms))\n",
    "    print(\"Sum of firm sizes \\n\", sum([firm.size for firm in model.firms]))\n",
    "    if model.employees_quit_model:\n",
    "        print(\"Amount of resignations from firm: \\n\", [len(firm_resignees) for firm_resignees in model.resigned_employees_data.values()])\n",
    "        print(\"Final sizes of firms from where employees quit: \\n\",[firm.size for firm in model.resigned_employees_data.keys()])"
   ]
  },
  {
   "cell_type": "code",
   "execution_count": 12,
   "metadata": {},
   "outputs": [
    {
     "name": "stdout",
     "output_type": "stream",
     "text": [
      "Largest firm size: \n",
      " 518\n",
      "Smallest firm size: \n",
      " 1\n",
      "Number of firms of size 1: \n",
      " 334\n",
      "Number of firms: \n",
      " 616\n",
      "Sum of firm sizes \n",
      " 3001\n"
     ]
    }
   ],
   "source": [
    "print_model_info(firm_model)"
   ]
  },
  {
   "cell_type": "markdown",
   "metadata": {},
   "source": [
    "## Section 3: Extend the model\n",
    "\n",
    "Change some aspect of the model and see how the size distribution changes. For example, you could have Agents quitting if the the firm size is above a certain threshold. Or you could have the probability of starting a new firm depend on the size of the largest firm. Or you could introduce mergers between firms."
   ]
  },
  {
   "cell_type": "code",
   "execution_count": 13,
   "metadata": {},
   "outputs": [
    {
     "data": {
      "image/png": "[encoded data removed]",
      "text/plain": [
       "<Figure size 640x480 with 1 Axes>"
      ]
     },
     "metadata": {},
     "output_type": "display_data"
    },
    {
     "name": "stdout",
     "output_type": "stream",
     "text": [
      "Largest firm size: \n",
      " 93\n",
      "Smallest firm size: \n",
      " 1\n",
      "Number of firms of size 1: \n",
      " 380\n",
      "Number of firms: \n",
      " 758\n",
      "Sum of firm sizes \n",
      " 3001\n",
      "Amount of resignations from firm: \n",
      " [58, 23, 18, 15, 11, 17, 16, 3, 6, 15, 3, 3, 3, 1, 3, 1, 5, 1, 1, 6, 2, 1, 1, 1, 1, 1, 1, 1, 1, 4, 2, 1, 1, 1, 3, 1]\n",
      "Final sizes of firms from where employees quit: \n",
      " [93, 75, 64, 51, 49, 60, 59, 34, 43, 57, 27, 32, 26, 7, 42, 24, 36, 6, 34, 51, 34, 8, 2, 6, 2, 26, 5, 12, 12, 34, 38, 3, 13, 2, 34, 21]\n"
     ]
    }
   ],
   "source": [
    "employees_quit_firm_model = World(initial_agents=3000, start_up_prob=0.2, employees_quit_model=True, max_size_mu=60, max_size_sigma=20)\n",
    "employees_quit_firm_model.run_model()\n",
    "\n",
    "employees_quit_firm_sizes = employees_quit_firm_model.datacollector.get_model_vars_dataframe()[\"Firm sizes\"].values\n",
    "\n",
    "plot_firm_sizes(employees_quit_firm_sizes, \"Firm sizes for model where employees have max size preference\")\n",
    "\n",
    "print_model_info(employees_quit_firm_model)"
   ]
  },
  {
   "cell_type": "code",
   "execution_count": 14,
   "metadata": {},
   "outputs": [
    {
     "data": {
      "image/png": "[encoded data removed]",
      "text/plain": [
       "<Figure size 640x480 with 1 Axes>"
      ]
     },
     "metadata": {},
     "output_type": "display_data"
    },
    {
     "data": {
      "image/png": "[encoded data removed]",
      "text/plain": [
       "<Figure size 640x480 with 1 Axes>"
      ]
     },
     "metadata": {},
     "output_type": "display_data"
    }
   ],
   "source": [
    "plot_firm_sizes(firm_sizes, \"Final firm sizes for normal model\")\n",
    "plot_firm_sizes(employees_quit_firm_sizes, \"Firm sizes for model where employees have max size preference\")"
   ]
  },
  {
   "cell_type": "markdown",
   "metadata": {},
   "source": [
    "## Extended Model Documentation\n",
    "\n",
    "The idea for this model was to mimic employees preference for not working in a too large firm / corporation. For this we assign a 50/50 chance for each agent to either be indifferent of max size (except for the actual sampling of firms where larger firms are more likely), or to have a given preference for max size from a normal distribution. When a firm becomes too large for an agent's taste, he/she quits and finds another firm that is small enough or starts own firm according to the same start-up probability.\n",
    "\n",
    "Challenges:\n",
    "- There is a slight contradiction between the firm sampling where larger firms are preferred, and the max size preference\n",
    "- Probability for starting up a new firm is probably a little bit biased when an agent has quit and is sampling a new firm in the correct size class. Looks like it is negligible based on the proportion of firms of size 1 "
   ]
  }
 ],
 "metadata": {
  "kernelspec": {
   "display_name": "edc",
   "language": "python",
   "name": "python3"
  },
  "language_info": {
   "codemirror_mode": {
    "name": "ipython",
    "version": 3
   },
   "file_extension": ".py",
   "mimetype": "text/x-python",
   "name": "python",
   "nbconvert_exporter": "python",
   "pygments_lexer": "ipython3",
   "version": "3.11.7"
  }
 },
 "nbformat": 4,
 "nbformat_minor": 2
}
