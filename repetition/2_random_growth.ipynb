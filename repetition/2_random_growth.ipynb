{
 "cells": [
  {
   "cell_type": "markdown",
   "metadata": {},
   "source": [
    "# Self Study 2: Random Growth Models\n",
    "\n",
    "In this notebook, we will study the growth of firms as described by the Gibrat's law.\n",
    "To do so, we will first look at the central limit theorem to see how the mean of any distribution converges to a normal distribution.\n",
    "\n",
    "We then simulate the growth of firms and show that the distribution of firm sizes converges to a log-normal distribution."
   ]
  },
  {
   "cell_type": "code",
   "execution_count": null,
   "metadata": {},
   "outputs": [],
   "source": [
    "# Importing the libraries\n",
    "import numpy as np  # for numerical computations\n",
    "import matplotlib.pyplot as plt # for plotting\n",
    "import scipy.stats as stats # for statistical analysis"
   ]
  },
  {
   "cell_type": "markdown",
   "metadata": {},
   "source": [
    "## Section 1: Central Limit Theorem"
   ]
  },
  {
   "cell_type": "markdown",
   "metadata": {},
   "source": [
    "### Task 1: Visualize Random Variable Distributions\n",
    "\n",
    "In this task, we aim to understand how random variables from different distributions can be generated and visualized using Python. We'll focus on two distributions:\n",
    "- A **Uniform Distribution**\n",
    "- A **Normal Distribution**\n",
    "\n",
    "We'll use the `numpy` library for generating these random variables and the `matplotlib.pyplot` library to plot their distributions.\n",
    "\n",
    "#### Step 1: Generate Random Variables\n",
    "First, let's generate 1000 random variables from:\n",
    "- A uniform distribution between 0 and 4.\n",
    "- A normal distribution with a mean of 2 and a standard deviation of 1."
   ]
  },
  {
   "cell_type": "code",
   "execution_count": null,
   "metadata": {},
   "outputs": [],
   "source": [
    "np.random.seed(0)  # seed for reproducibility\n",
    "data_uniform = # YOUR CODE HERE\n",
    "data_normal = # YOUR CODE HERE"
   ]
  },
  {
   "cell_type": "markdown",
   "metadata": {},
   "source": [
    "#### Step 2: Plot the Distributions\n",
    "Next, we'll plot the histogram of these random variables to visualize their distributions. We'll use different colors and labels to distinguish between them.\n"
   ]
  },
  {
   "cell_type": "code",
   "execution_count": null,
   "metadata": {},
   "outputs": [],
   "source": [
    "# Plot the histograms using plt.hist() function (40 bins)"
   ]
  },
  {
   "cell_type": "markdown",
   "metadata": {},
   "source": [
    "### Task 2: Bimodal Mixture Distribution\n",
    "\n",
    "Create a function for a bimodal mixture distribution, drawing 50% of its values from one normal distribution ($N(\\mu_1, \\sigma_1)$) and 50% from another ($N(\\mu_2, \\sigma_2)$).\n",
    "The goal is to generate data samples which half the time come from one normal distribution and half the time from another (i.e., a mixture of two normal distributions)."
   ]
  },
  {
   "cell_type": "code",
   "execution_count": null,
   "metadata": {},
   "outputs": [],
   "source": [
    "import numpy as np\n",
    "\n",
    "def mixture_model(n_agents, n_tries, mu_1=1.0, sigma_1=0.5, mu_2=3.0, sigma_2=0.5):\n",
    "    \"\"\"\n",
    "    Generates data from a bimodal mixture distribution.\n",
    "    \n",
    "    Parameters:\n",
    "        n_agents (int): Number of agents generating data.\n",
    "        n_tries (int): Number of data points per agent.\n",
    "        mu_1, sigma_1 (float): Mean and std of the first normal distribution.\n",
    "        mu_2, sigma_2 (float): Mean and std of the second normal distribution.\n",
    "    \n",
    "    Returns:\n",
    "        np.ndarray: Data points from the bimodal mixture.\n",
    "    \"\"\"\n",
    "    \n",
    "    # First and second normal distribution samples\n",
    "    samples_normal_1 = # YOUR CODE HERE\n",
    "    samples_normal_2 = # YOUR CODE HERE\n",
    "    \n",
    "    # Random selection between the two distributions\n",
    "    first_or_second = np.random.uniform(0, 1, (n_agents, n_tries)) < 0.5\n",
    "    samples = np.where(first_or_second, samples_normal_1, samples_normal_2)\n",
    "    \n",
    "    return samples.squeeze()  # remove the singleton dimension if n_agents=1\n"
   ]
  },
  {
   "cell_type": "markdown",
   "metadata": {},
   "source": [
    "Sample 1000 random variables using the `mixture_model` function, then visualize the distribution with `plt.hist`."
   ]
  },
  {
   "cell_type": "code",
   "execution_count": null,
   "metadata": {},
   "outputs": [],
   "source": [
    "# YOUR CODE HERE\n"
   ]
  },
  {
   "cell_type": "markdown",
   "metadata": {},
   "source": [
    "### Task 3: Central Limit Theorem"
   ]
  },
  {
   "cell_type": "markdown",
   "metadata": {},
   "source": [
    "Step 1: Plot Histogram of Sample Means"
   ]
  },
  {
   "cell_type": "code",
   "execution_count": null,
   "metadata": {},
   "outputs": [],
   "source": [
    "def plot_clt_histogram(samples, bins=50):\n",
    "    \"\"\"Plot the histogram of the sample means.\n",
    "    \n",
    "    Parameters:\n",
    "        samples (np.ndarray): 2D array with the samples; n_agents x n_tries.\n",
    "        bins (int): Number of bins in the histogram.\n",
    "    \"\"\"\n",
    "    # compute the sample means for each agent and store them in means\n",
    "    \n",
    "    plt.hist(means, bins=bins, density=True, label='Sample Means')\n",
    "    plt.title('Sample Means')\n",
    "    plt.ylabel('Density')"
   ]
  },
  {
   "cell_type": "markdown",
   "metadata": {},
   "source": [
    "Step 2: Plot Theoretical Normal Distribution Curve"
   ]
  },
  {
   "cell_type": "code",
   "execution_count": null,
   "metadata": {},
   "outputs": [],
   "source": [
    "def plot_clt_pdf(samples):\n",
    "    \"\"\"Plot the theoretical normal distribution curve.\n",
    "    \n",
    "    Parameters:\n",
    "        samples (np.ndarray): 2D array with the samples; n_agents x n_tries.\n",
    "    \"\"\"\n",
    "    # Calculate and plot the theoretical normal distribution curve\n",
    "    n_agents = samples.shape[1]\n",
    "    \n",
    "    # mu = mean of the sample means\n",
    "    mu = # YOUR CODE HERE\n",
    "    \n",
    "    # std = std of the sample means divided by sqrt(n_agents)\n",
    "    std = # YOUR CODE HERE\n",
    "    \n",
    "    x = np.linspace(mu - 3*std, mu + 3*std, 100)\n",
    "    y = stats.norm.pdf(x, mu, std)\n",
    "    plt.plot(x, y, 'r--', linewidth=2, label='Theoretical Normal Dist.')"
   ]
  },
  {
   "cell_type": "markdown",
   "metadata": {},
   "source": [
    "Step 3: Plot Histogram of Sample Means for Different Sample Sizes"
   ]
  },
  {
   "cell_type": "code",
   "execution_count": null,
   "metadata": {},
   "outputs": [],
   "source": [
    "# Generate 500 samples of the mixture model to test the functions below\n",
    "mix_samples = # YOUR CODE HERE\n",
    "\n",
    "plot_clt_pdf(mix_samples)\n",
    "plot_clt_histogram(mix_samples, bins=30)\n",
    "plt.legend()"
   ]
  },
  {
   "cell_type": "markdown",
   "metadata": {},
   "source": [
    "A wonderful visualization of the Central Limit Theorem can be found [here](https://seeing-theory.brown.edu/probability-distributions/index.html#section3)."
   ]
  },
  {
   "cell_type": "markdown",
   "metadata": {},
   "source": [
    "## Section 2: Random Growth"
   ]
  },
  {
   "cell_type": "markdown",
   "metadata": {},
   "source": [
    "We are modeling a process where each step's value is the product of the previous step's value and a growth rate. The process starts with an initial value \\(x_0\\) and grows step by step. Here's how it works:\n",
    "\n",
    "At the first step:\n",
    "$$x_1 = x_0 \\cdot \\lambda_0$$\n",
    "\n",
    "At the second step:\n",
    "$$x_2 = x_1 \\cdot \\lambda_1$$\n",
    "\n",
    "This pattern continues such that for any step \\(s\\), the value is:\n",
    "$$x_s = x_{s-1} \\cdot \\lambda_{s-1}$$\n",
    "\n",
    "We can generalize this for any step \\(t\\) using the product notation:\n",
    "$$x_t = x_0 \\cdot \\prod_{s=0}^{t-1} \\lambda_s$$\n",
    "\n",
    "Here, $x_0$ is the starting value, and $\\lambda_i > 0$ represents the growth rate at step $i$. Our goal is to calculate the value of $x_n$ given $x_0$ and the growth rates $\\lambda_i$.\n"
   ]
  },
  {
   "cell_type": "markdown",
   "metadata": {},
   "source": [
    "### Task 1: Simulate Firm Growth\n",
    "\n",
    "Complete the function `simulate_growth` to simulate the growth of a firm over time."
   ]
  },
  {
   "cell_type": "code",
   "execution_count": null,
   "metadata": {},
   "outputs": [],
   "source": [
    "np.random.seed(42) # again for reproducibility\n",
    "\n",
    "def simulate_growth(n_agents, n_steps, x0=1, *, mu_1=1.1, sigma_1=.05, mu_2=0.9, sigma_2=.05):\n",
    "    \"\"\"Simulates the growth of a number of agents over time.\n",
    "      \n",
    "    Parameters:\n",
    "        n_agents (int): Number of agents.\n",
    "        n_steps (int): Number of growth steps.\n",
    "        x0 (float): Initial value of the growth.\n",
    "        mu_1, sigma_1 (float): Mean and std of the first normal distribution.\n",
    "        mu_2, sigma_2 (float): Mean and std of the second normal distribution.\n",
    "    \"\"\"\n",
    "    # get the lambdas from the mixture model\n",
    "    lambdas = mixture_model(n_agents=n_agents, n_tries=n_steps, mu_1=mu_1, sigma_1=sigma_1, mu_2=mu_2, sigma_2=sigma_2)\n",
    "\n",
    "    # growth rates must be positive\n",
    "    lambdas = np.abs(lambdas)\n",
    "\n",
    "    # Step 2: compute the growth\n",
    "    # YOUR CODE HERE (hint: use np.cumprod() or a for loop)\n",
    "    \n",
    "    return evolution, lambdas\n"
   ]
  },
  {
   "cell_type": "markdown",
   "metadata": {},
   "source": [
    "### Task 2: Plot the evolution of a firm's size"
   ]
  },
  {
   "cell_type": "code",
   "execution_count": null,
   "metadata": {},
   "outputs": [],
   "source": [
    "# Step 3: plot the evolution of the random growth\n",
    "np.random.seed(42)\n",
    "firm_size_evolution, lambdas = # YOUR CODE HERE\n",
    "plt.plot(firm_size_evolution.T)\n",
    "# plt.yscale('log')\n",
    "\n",
    "# Compute the arithmetic and geometric means\n",
    "arithmetic_mean = np.mean(lambdas)\n",
    "geometric_mean = np.exp(np.mean(np.log(lambdas)))\n",
    "print(f\"{arithmetic_mean=:0.4f}, {geometric_mean=:0.4f}\")"
   ]
  },
  {
   "cell_type": "markdown",
   "metadata": {},
   "source": [
    "### Task 3: Plot the distribution of final firm sizes"
   ]
  },
  {
   "cell_type": "code",
   "execution_count": null,
   "metadata": {},
   "outputs": [],
   "source": [
    "# Set a random seed for reproducibility\n",
    "np.random.seed(883)\n",
    "\n",
    "# Simulate firm growth with many agents\n",
    "firm_size_evolution, lambdas = simulate_growth(n_agents=300, n_steps=1_000, mu_1=1.07, sigma_1=0.05, mu_2=0.94, sigma_2=0.05)\n",
    "\n",
    "# Calculate the logarithm of the final sizes for all firms\n",
    "final_sizes =  # YOUR CODE HERE\n",
    "\n",
    "# Plot the histogram of the final sizes to visualize their distribution\n",
    "plt.hist(final_sizes, bins=30, alpha=0.5, label='Final sizes', density=True)\n",
    "plt.xlabel('Log of Final Firm Size')\n",
    "\n",
    "# Compute and print the mean and standard deviation of the final sizes\n",
    "mu, std = np.mean(final_sizes), np.std(final_sizes)\n",
    "\n",
    "# Plot the normal distribution around empirical mean\n",
    "x = np.linspace(mu - 3.5*std, mu + 3.5*std, 50) # X values for plotting\n",
    "y = stats.norm.pdf(x, loc=mu, scale=std)       # Y values for plotting\n",
    "plt.plot(x, y, 'r--', linewidth=3, label='')\n",
    "\n",
    "# Calculate and plot the expected value of the final size on the histogram\n",
    "expected_value = np.exp(mu + std**2 / 2)\n",
    "plt.axvline(expected_value, color='k', linestyle='--', label='E[x]')\n",
    "plt.legend()\n"
   ]
  }
 ],
 "metadata": {
  "kernelspec": {
   "display_name": "edc",
   "language": "python",
   "name": "python3"
  },
  "language_info": {
   "codemirror_mode": {
    "name": "ipython",
    "version": 3
   },
   "file_extension": ".py",
   "mimetype": "text/x-python",
   "name": "python",
   "nbconvert_exporter": "python",
   "pygments_lexer": "ipython3",
   "version": "3.11.5"
  }
 },
 "nbformat": 4,
 "nbformat_minor": 2
}
