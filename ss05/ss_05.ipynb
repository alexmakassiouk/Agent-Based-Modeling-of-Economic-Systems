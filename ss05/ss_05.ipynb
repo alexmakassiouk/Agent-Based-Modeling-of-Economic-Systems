{
 "cells": [
  {
   "cell_type": "markdown",
   "metadata": {},
   "source": [
    "\n",
    "# Exercise 5: Polya Process and Technology Adoption\n",
    "\n",
    "In the first part of this exercise you will implement the linear and non-linear polya process. \n",
    "In the second part you will implement a model for technology adoption based on non-linear polya processes, as described in lecture 6."
   ]
  },
  {
   "attachments": {},
   "cell_type": "markdown",
   "metadata": {},
   "source": [
    "## Task 1\n",
    "\n",
    "\n",
    "Implement an agent class suitable for the linear and non-linear Polya process. \n",
    "The class should have \n",
    " - a parameter to store the choice of the agent (either 0 or 1),\n",
    " - a method to initialise agents, \n",
    " - a method that permits to pick between a linear and non-linear decision,\n",
    " - two methods that allow the agent to choose its state based on the choices of agents already there\n",
    "\n",
    "\n",
    "Choose the parametrization $\\theta_i = 0.5$ for both the linear and non-linear process, $\\beta_L = 4$ and $\\beta_{NL} = 10$ for the linear and the non-linear process respectively.\n",
    "\n",
    "Implement a Model class suitable for the linear and non-linear Polya process. \n",
    "This class sould have \n",
    " - a method to initialize the model with two agents: one having chosen 0 and one having chosen 1\n",
    " - a method to compute the global frequency"
   ]
  },
  {
   "cell_type": "code",
   "execution_count": 1,
   "metadata": {},
   "outputs": [],
   "source": [
    "from model import PolyaProcess\n",
    "from agent import PolyaAgent\n",
    "import matplotlib.pyplot as plt\n",
    "import numpy as np"
   ]
  },
  {
   "attachments": {},
   "cell_type": "markdown",
   "metadata": {},
   "source": [
    "## Task 2\n",
    "\n",
    "Your task now is to simulate the linear Polya process.\n",
    "Run the simulation for **200** time steps and plot **10** sample runs on one plot."
   ]
  },
  {
   "cell_type": "code",
   "execution_count": null,
   "metadata": {},
   "outputs": [],
   "source": [
    "num_steps = ... \n",
    "num_sample = ..."
   ]
  },
  {
   "cell_type": "code",
   "execution_count": null,
   "metadata": {},
   "outputs": [],
   "source": [
    "def task2():\n",
    "    np.random.seed(seed)\n",
    "    for i in range(num_sample):\n",
    "        ...\n",
    "\n",
    "    \n",
    "    plt.xlabel(\"Time ($N$)\")\n",
    "    plt.ylabel(\"$f^1(N)$\")\n",
    "    plt.ylim(0,1)\n",
    "    plt.grid()\n",
    "    plt.show()"
   ]
  },
  {
   "cell_type": "code",
   "execution_count": null,
   "metadata": {},
   "outputs": [],
   "source": [
    "task2()"
   ]
  },
  {
   "attachments": {},
   "cell_type": "markdown",
   "metadata": {},
   "source": [
    "## Task 3\n",
    "\n",
    "Your task now is to simulate the non-linear Polya process.\n",
    "Run the simulation for **200** time steps and plot **10** sample runs on one plot."
   ]
  },
  {
   "cell_type": "code",
   "execution_count": null,
   "metadata": {},
   "outputs": [],
   "source": [
    "num_steps = ...\n",
    "num_sample = ..."
   ]
  },
  {
   "cell_type": "code",
   "execution_count": null,
   "metadata": {},
   "outputs": [],
   "source": [
    "def task3(seed = 120):\n",
    "    \n",
    "    plt.xlabel(\"Time ($N$)\")\n",
    "    plt.ylabel(\"$f^1(N)$\")\n",
    "    plt.ylim(0,1)\n",
    "    plt.grid()\n",
    "    plt.show()"
   ]
  },
  {
   "cell_type": "code",
   "execution_count": null,
   "metadata": {},
   "outputs": [],
   "source": [
    "task3()"
   ]
  },
  {
   "cell_type": "markdown",
   "metadata": {},
   "source": [
    "## Task 4\n",
    "\n",
    "Now, run $2\\,000$ simulations over 500 time steps for both the linear and non-linear polya processes and plot the histogram of the distribution of the fraction of agents choosing 1 at the end (i.e., after the 500 time steps). You should observe a uniform distribution for the linear polya process, and a bimodal distribution for the non-linear polya process.\n"
   ]
  },
  {
   "cell_type": "code",
   "execution_count": null,
   "metadata": {},
   "outputs": [],
   "source": [
    "num_steps = ...\n",
    "num_sample = ..."
   ]
  },
  {
   "cell_type": "code",
   "execution_count": null,
   "metadata": {},
   "outputs": [],
   "source": [
    "def task4():\n",
    "    ...\n",
    "    \n",
    "    plt.hist(...\n",
    "    plt.xlabel(\"$f^1(N)$ after \"+str(num_steps)+\" time steps\")\n",
    "    plt.ylabel(\"Number of occurrences\")\n",
    "    plt.legend()\n",
    "    plt.show()"
   ]
  },
  {
   "cell_type": "code",
   "execution_count": null,
   "metadata": {},
   "outputs": [],
   "source": [
    "task4()"
   ]
  },
  {
   "attachments": {},
   "cell_type": "markdown",
   "metadata": {},
   "source": [
    "### Task 5\n",
    "\n",
    "In this task, you have to implement the models for technology adoption described in the second part of lecture 06. \n",
    "To do so, you have to redefine the agent class including the parameters to compute their utilities by adding\n",
    " - a method to compute agent utilities using their benefits assigned from preferences (cf. slide 18)\n",
    " - a method to compute agent utilities using their benefits assigned from technologies, (cf. slide 33)\n",
    " \n",
    "Also, you have to redefine the PolyaProcess model such that it can now pass the benefits to the agents when initializing them. And set to zero the number of initial agents.\n",
    "\n"
   ]
  },
  {
   "attachments": {},
   "cell_type": "markdown",
   "metadata": {},
   "source": [
    "### Task 6\n",
    "\n",
    "For the technology adoption model with benefits assigned from preferences, run it with the parameters used in slides 27/28.\n",
    "Try to obtain the figure in slide 29 and 30, i.e. that the simulation evolve inside the lock-in boundaries. Note that it is not easy to obtain a simulation that stays in between the boundaries as most of simulations will quickly lock in. If you want to obtain scuh type of realizations, you will have to fine tune the random seed."
   ]
  },
  {
   "cell_type": "code",
   "execution_count": null,
   "metadata": {},
   "outputs": [],
   "source": [
    "num_steps = ...\n",
    "num_sample = ...\n",
    "A = ...\n",
    "uc = ..."
   ]
  },
  {
   "cell_type": "code",
   "execution_count": null,
   "metadata": {},
   "outputs": [],
   "source": [
    "def task6():\n",
    "    ...\n"
   ]
  },
  {
   "cell_type": "code",
   "execution_count": null,
   "metadata": {},
   "outputs": [],
   "source": [
    "task6()"
   ]
  },
  {
   "attachments": {},
   "cell_type": "markdown",
   "metadata": {},
   "source": [
    "### Task 7\n",
    "\n",
    "For the technology adoption model with benefits assigned from technolgoies, run it with the parameters used in slide 30.\n",
    "Note that it is not easy to obtain a simulation that stays in between the boundaries as most of simulations will quickly lock in. If you want to obtain scuh type of realizations, you will have to fine tune the random seed."
   ]
  },
  {
   "cell_type": "code",
   "execution_count": null,
   "metadata": {},
   "outputs": [],
   "source": [
    "num_steps = ...\n",
    "num_sample = ...\n",
    "A = ...\n",
    "uc = ..."
   ]
  },
  {
   "cell_type": "code",
   "execution_count": null,
   "metadata": {},
   "outputs": [],
   "source": [
    "def task7():\n",
    "    ...\n"
   ]
  },
  {
   "cell_type": "code",
   "execution_count": null,
   "metadata": {},
   "outputs": [],
   "source": [
    "task7()"
   ]
  }
 ],
 "metadata": {
  "kernelspec": {
   "display_name": "Python 3",
   "language": "python",
   "name": "python3"
  },
  "language_info": {
   "codemirror_mode": {
    "name": "ipython",
    "version": 3
   },
   "file_extension": ".py",
   "mimetype": "text/x-python",
   "name": "python",
   "nbconvert_exporter": "python",
   "pygments_lexer": "ipython3",
   "version": "3.11.7"
  }
 },
 "nbformat": 4,
 "nbformat_minor": 2
}
