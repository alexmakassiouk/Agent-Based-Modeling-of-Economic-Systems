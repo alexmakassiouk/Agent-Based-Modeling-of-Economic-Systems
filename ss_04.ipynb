{
 "cells": [
  {
   "cell_type": "markdown",
   "metadata": {},
   "source": [
    "# Exercise 4: Yule-Simon distribution\n",
    "\n",
    "In this exercise we will look at the Yule-Simon and how to generate it using an Agent Based Model (ABM) implemented in Python using the `mesa` library.\n",
    "\n",
    "The process to generate a Yule-Simon distribution describing firm sizes is as follows:\n",
    "\n",
    "1. Start with a single firm of size 1.\n",
    "2. At each time step, a new agent enters the market.\n",
    "3. The agent may either decide to start a new firm with probability $p$ or join an existing firm with probability $1-p$ and then choose a firm to join with probability proportional to the size of the firm.\n",
    "\n"
   ]
  },
  {
   "cell_type": "markdown",
   "metadata": {},
   "source": [
    "## Section 1: Read the \"Introduction to Mesa\" notebook\n",
    "\n",
    "Before attempting this exercise, have a look at the companion Notebook \"Introduction to Mesa\" to get familiar with the library."
   ]
  },
  {
   "cell_type": "markdown",
   "metadata": {},
   "source": [
    "## Section 2: Implement the Yule-Simon model\n",
    "\n",
    "Specifically implement the following three classes:\n",
    "\n",
    "1. `Firm`: This class represent a firm. Its most important attribute is size.\n",
    "\n",
    "2. `NewAgent`: This class represent a new agent entering the market.\n",
    "\n",
    "3. `World`: This class should represent the world."
   ]
  },
  {
   "cell_type": "code",
   "execution_count": 27,
   "metadata": {},
   "outputs": [],
   "source": [
    "import mesa\n",
    "import numpy as np\n",
    "from math import floor"
   ]
  },
  {
   "cell_type": "code",
   "execution_count": 28,
   "metadata": {},
   "outputs": [],
   "source": [
    "\n",
    "\n",
    "class Firm(mesa.Agent):\n",
    "    \"\"\"A firm that can hire employees.\"\"\"\n",
    "\n",
    "    def __init__(self, unique_id: int, model: \"World\", first_employee: \"NewAgent\"):\n",
    "        super().__init__(unique_id, model)\n",
    "        self.employees: list[mesa.Agent] = [first_employee]\n",
    "        self.size = 1  # Start with a size of 1\n",
    "\n",
    "    def hire(self, agent: \"NewAgent\"):\n",
    "        \"\"\"Hire a new employee.\n",
    "        \n",
    "        Tasks:\n",
    "        1. Append the 'agent' to the 'self.employees' list.\n",
    "        2. Increase 'self.size' by 1.\n",
    "        3. Set the 'agent.employer' to 'self'.\n",
    "        \"\"\"\n",
    "        # your code here\n",
    "        self.employees.append(agent)\n",
    "        self.size+=1\n",
    "        agent.employer = self\n",
    "\n",
    "\n",
    "class NewAgent(mesa.Agent):\n",
    "    \"\"\"An agent that can either found a new firm or join an existing one.\"\"\"\n",
    "\n",
    "    def __init__(self, unique_id: int, model: \"World\"):\n",
    "        super().__init__(unique_id, model)\n",
    "        self.employer: Firm | None = None  # Initially, the agent doesn't have an employer\n",
    "\n",
    "    def create_firm(self):\n",
    "        \"\"\"Found a new firm with the agent as the first employee.\n",
    "        \n",
    "        Use the 'create_firm' method from the 'World' model.\n",
    "        \"\"\"\n",
    "        # your code here\n",
    "        self.model.create_firm(self.model)\n",
    "\n",
    "\n",
    "    def join_firm(self, firm: Firm):\n",
    "        \"\"\"Join an existing firm.\n",
    "        \n",
    "        Use the 'hire' method from the 'Firm' class.\n",
    "        \"\"\"\n",
    "        # your code here\n",
    "        firm.hire(self)\n",
    "\n",
    "    def step(self):\n",
    "        \"\"\"Define the agent's actions per step.\n",
    "        \n",
    "        Each step, the agent decides based on a probability (start_up_prob) whether to found a new firm \n",
    "        or join an existing one. Use the 'create_firm' method for founding a new firm and 'join_firm' \n",
    "        for joining an existing firm. Both methods are part of this class; 'sample_firm' is found in the 'World' class.\n",
    "        \"\"\"\n",
    "        # your code here\n",
    "        prob = np.random.uniform(low=0, high=1)\n",
    "        if prob<=self.model.start_up_prob:\n",
    "            self.create_firm()\n",
    "        else:\n",
    "            # total_sizes = sum([firm.size for firm in self.model.firms])\n",
    "            # firm_prob = np.random.uniform(low=0, high=total_sizes)\n",
    "            # firm_to_join = self.model.firms[floor(firm_prob/len(self.model.firms))]\n",
    "\n",
    "            self.join_firm(self.model.sample_firm())\n",
    "\n",
    "\n",
    "## THIS CODE IS PROVIDED. YOU may want to adapt it for Section 3\n",
    "class World(mesa.Model):\n",
    "    \"\"\"The model representing the world containing firms and agents.\"\"\"\n",
    "\n",
    "    def __init__(self, initial_agents=10, start_up_prob=0.1, collect_every=-1):\n",
    "        super().__init__()\n",
    "        self.start_up_prob = start_up_prob  # Probability of starting a new firm\n",
    "        self.firms = []  # List of firms\n",
    "        self.collect_every = collect_every\n",
    "\n",
    "        self.schedule = mesa.time.BaseScheduler(self)\n",
    "        \n",
    "        self.datacollector = mesa.datacollection.DataCollector(\n",
    "            model_reporters={\"Firm sizes\": self.collect_firm_sizes}\n",
    "        )\n",
    "\n",
    "        # Initialize agents\n",
    "        for i in range(initial_agents):\n",
    "            agent = NewAgent(i, self)\n",
    "            self.schedule.add(agent)  # Important: add agents to the schedule\n",
    "\n",
    "        # Ensure at least one firm exists at the start\n",
    "        self.create_firm(first_employee=self.schedule.agents[0])\n",
    "\n",
    "    def create_firm(self, first_employee: NewAgent):\n",
    "        \"\"\"Create a new firm.\"\"\"\n",
    "        next_id = len(self.firms)\n",
    "        firm = Firm(next_id, self, first_employee)\n",
    "        self.firms.append(firm)\n",
    "\n",
    "    def sample_firm(self):\n",
    "        \"\"\"Sample a firm proportionally to its size.\"\"\"\n",
    "        firm_sizes = [firm.size for firm in self.firms]\n",
    "        total_size = sum(firm_sizes)\n",
    "        probabilities = [size / total_size for size in firm_sizes]\n",
    "        return self.random.choices(self.firms, weights=probabilities)[0]\n",
    "\n",
    "    def full_employment(self):\n",
    "        \"\"\"Check if all agents are employed.\"\"\"\n",
    "        return all(agent.employer is not None for agent in self.schedule.agents)\n",
    "    \n",
    "    def collect_firm_sizes(self):\n",
    "        \"\"\"Collect the sizes of all firms.\"\"\"\n",
    "        return [firm.size for firm in self.firms]\n",
    "\n",
    "    def step(self):\n",
    "        \"\"\"Advance the model by one step, activating only one agent.\"\"\"\n",
    "        if len(self.schedule.agents) > 0:\n",
    "            # Select a random agent to activate\n",
    "            agent_to_activate = self.random.choice(self.schedule.agents)\n",
    "            agent_to_activate.step()\n",
    "\n",
    "            # Remove the agent after its step; it should not be activated again\n",
    "            self.schedule.remove(agent_to_activate)\n",
    "            \n",
    "            if self.collect_every == -1 and self.full_employment(): # collect only at the end\n",
    "                self.datacollector.collect(self)\n",
    "            elif self.collect_every >= 1 and self.schedule.steps % self.collect_every == 0:\n",
    "                self.datacollector.collect(self)\n",
    "\n",
    "            # End the simulation if all agents are employed\n",
    "            if self.full_employment():\n",
    "                self.running = False"
   ]
  },
  {
   "cell_type": "markdown",
   "metadata": {},
   "source": [
    "### Run and plot the firm size distribution"
   ]
  },
  {
   "cell_type": "code",
   "execution_count": 29,
   "metadata": {},
   "outputs": [],
   "source": [
    "import matplotlib.pyplot as plt\n",
    "import numpy as np"
   ]
  },
  {
   "cell_type": "code",
   "execution_count": 31,
   "metadata": {},
   "outputs": [
    {
     "data": {
      "text/plain": [
       "Text(0.5, 0, 'Firm size')"
      ]
     },
     "execution_count": 31,
     "metadata": {},
     "output_type": "execute_result"
    },
    {
     "data": {
      "image/png": "[encoded data removed]",
      "text/plain": [
       "<Figure size 640x480 with 1 Axes>"
      ]
     },
     "metadata": {},
     "output_type": "display_data"
    }
   ],
   "source": [
    "firm_model = World(3_000, start_up_prob=0.2)\n",
    "firm_model.run_model()\n",
    "\n",
    "firm_sizes = firm_model.datacollector.get_model_vars_dataframe()[\"Firm sizes\"].values\n",
    "\n",
    "plt.hist(firm_sizes, bins=np.logspace(0, 3, 30))\n",
    "plt.xscale(\"log\")\n",
    "plt.yscale(\"log\")\n",
    "plt.xlabel(\"Firm size\")"
   ]
  },
  {
   "cell_type": "markdown",
   "metadata": {},
   "source": [
    "## Section 3: Extend the model\n",
    "\n",
    "Change some aspect of the model and see how the size distribution changes. For example, you could have Agents quitting if the the firm size is above a certain threshold. Or you could have the probability of starting a new firm depend on the size of the largest firm. Or you could introduce mergers between firms."
   ]
  }
 ],
 "metadata": {
  "kernelspec": {
   "display_name": "edc",
   "language": "python",
   "name": "python3"
  },
  "language_info": {
   "codemirror_mode": {
    "name": "ipython",
    "version": 3
   },
   "file_extension": ".py",
   "mimetype": "text/x-python",
   "name": "python",
   "nbconvert_exporter": "python",
   "pygments_lexer": "ipython3",
   "version": "3.11.7"
  }
 },
 "nbformat": 4,
 "nbformat_minor": 2
}
