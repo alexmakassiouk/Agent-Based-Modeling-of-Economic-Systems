{
 "cells": [
  {
   "cell_type": "markdown",
   "metadata": {},
   "source": [
    "# Week 3: Firm Growth Dynamics\n",
    "\n",
    "This week's tutorial focuses on simulating firm growth, starting with the Kesten Model and then moving to simulating firm growth with a target size.\n",
    "\n",
    "You will learn to write basic Python loops and functions. Then we introduce numpy to speed up the code and use matrix operations."
   ]
  },
  {
   "cell_type": "markdown",
   "metadata": {},
   "source": [
    "\n",
    "## Section 1: The Kesten Model\n",
    "\n",
    "The Kesten Model is a stochastic model that can be used to describe the growth of firms. It is defined by the recursive equation:\n",
    "\n",
    "$$x_{t+1} = x_{t} b_{t} + a_{t},$$\n",
    "\n",
    "where $x_{t}$ represents the firm's size at time $t$, $b_{t}>0$ is a random variable representing firm's growth rate, and $a_{t}>0$ is a base growth rate (which we assume to be constant)."
   ]
  },
  {
   "cell_type": "code",
   "execution_count": 1,
   "metadata": {},
   "outputs": [],
   "source": [
    "# import the necessary packages\n",
    "import matplotlib.pyplot as plt # for plotting\n",
    "import random # for random number generation (built-in, not numpy)\n",
    "import numpy as np"
   ]
  },
  {
   "cell_type": "markdown",
   "metadata": {},
   "source": [
    "#### Task 1: Write a function that simulates the Kesten Model"
   ]
  },
  {
   "cell_type": "code",
   "execution_count": null,
   "metadata": {},
   "outputs": [],
   "source": [
    "def kesten_process(steps):\n",
    "    x_seq = [1.0]\n",
    "    a = 0.1\n",
    "    # YOU CODE HERE \n",
    "    return x_seq"
   ]
  },
  {
   "cell_type": "markdown",
   "metadata": {},
   "source": [
    "#### Task 2: Simulate the Kesten Model for 1000 periods and 10_000 firms"
   ]
  },
  {
   "cell_type": "code",
   "execution_count": null,
   "metadata": {},
   "outputs": [],
   "source": [
    "n_firms = 10_000\n",
    "n_steps = 1_000\n",
    "\n",
    "# YOU CODE HERE "
   ]
  },
  {
   "cell_type": "markdown",
   "metadata": {},
   "source": [
    "#### Task 3: Plot some trajectories of firm growth and the distribution of firm sizes"
   ]
  },
  {
   "cell_type": "code",
   "execution_count": null,
   "metadata": {},
   "outputs": [],
   "source": [
    "# lets plot the first 2 sequences\n",
    "# YOU CODE HERE "
   ]
  },
  {
   "cell_type": "code",
   "execution_count": null,
   "metadata": {},
   "outputs": [],
   "source": [
    "# plot the size distribution using log sized bins"
   ]
  },
  {
   "cell_type": "markdown",
   "metadata": {},
   "source": [
    "## Section 2: Numpy Vectorization\n",
    "\n",
    "Numpy is the foundation of scientific computing in Python, enabling operations across arrays simultaneously and eliminating (mostly) the need for explicit loops.\n",
    "\n",
    "This feature is especially useful in this exercise. Since this growht process is an example of an [Embarrassingly Parallel Task](https://en.wikipedia.org/wiki/Embarrassingly_parallel).\n",
    "\n",
    "This is because we can simulate the growth of multiple firms at the same time, as one firm's growth does not affect another's.\n",
    "\n",
    "To leverage numpy's vectorization, we need to rewrite the Kesten Model as matrix operations.\n",
    "\n",
    "#### Task 1: Simulate the Kesten Model for 1000 periods and 10_000 firms using numpy and plot the distribution of firm sizes"
   ]
  },
  {
   "cell_type": "code",
   "execution_count": null,
   "metadata": {},
   "outputs": [],
   "source": [
    "n_time = 1_000\n",
    "n_firms = 10_000\n",
    "\n",
    "# Matrix Definition\n",
    "A = # YOU CODE HERE\n",
    "B = # YOU CODE HERE\n",
    "x0 = # YOU CODE HERE\n",
    "\n",
    "# YOU CODE HERE"
   ]
  },
  {
   "cell_type": "code",
   "execution_count": null,
   "metadata": {},
   "outputs": [],
   "source": [
    "# plot the histogram\n",
    "# YOU CODE HERE"
   ]
  },
  {
   "cell_type": "markdown",
   "metadata": {},
   "source": [
    "## Section 3: Simulating Growth Towards a Target Size\n",
    "\n",
    "This section explores a model where firms grow towards a target size, $x^*$, expanding when they are below the target and contracting when they are above it.\n",
    "\n",
    "The size of a firm at $t+1$, $x_{t+1}$, is given by the following equation:\n",
    "\n",
    "\\begin{align*}\n",
    "  x_{t+1}= x_t \\cdot \\epsilon_t \\cdot \\left\\{\n",
    "  \\begin{array}{ll}\n",
    "    k, & \\text{if } x_t \\leq x^* \\quad \\text{(Expansion)}\\\\\n",
    "    \\frac{1}{k}, & \\text{if } x_t > x^* \\quad \\text{(Contraction)}\n",
    "  \\end{array} \\right.\n",
    "\\end{align*}\n",
    "\n",
    "The growth rate, denoted by $\\epsilon_t$, is adjusted by a scaling factor $k>1$, modifying the growth rate based on the firm's current size.\n",
    "\n",
    "\n",
    "In this example, $\\epsilon_t$ is a growth rate sampled from an iid log-normal distribution.\n"
   ]
  },
  {
   "cell_type": "markdown",
   "metadata": {},
   "source": [
    "#### Task 1: Simulate growth with Numpy"
   ]
  },
  {
   "cell_type": "code",
   "execution_count": null,
   "metadata": {},
   "outputs": [],
   "source": [
    "# Set the target size for firm growth\n",
    "\n",
    "\n",
    "# Generate a matrix E with log-normal growth rates for each agent at each time step (mean=0, std=0.3)\n",
    "\n",
    "\n",
    "# Set the growth factor (k) used when a firm's size is smaller than the target size\n",
    "\n",
    "\n",
    "# Initialize the current size (x0) of each agent to 1\n",
    "\n",
    "# Initialize a matrix to store size of each firm at each time step\n",
    "\n",
    "# Simulate the growth process over time\n",
    "for t in range(n_steps):\n",
    "    # YOU CODE HERE"
   ]
  },
  {
   "cell_type": "markdown",
   "metadata": {},
   "source": [
    "#### Task 2: Plot the Distribution of Log-Rates\n",
    "\n",
    "Unlike the Kesten process, the growth rates in this scenario are not iid; specifically, they are not independent. This dependency arises because the next growth rate could be either $k \\epsilon_t$ or $\\frac{\\epsilon_t}{k}$, depending on $x_t$.\n",
    "\n",
    "In the Kesten process (above), the distribution of growth rates was predetermined, and therefore, we did not investigate its distribution. However, in this case, the distribution of growth rates is unknown a priori.\n",
    "\n",
    "To determine the distribution of growth rates, we define $r_t = \\ln(\\frac{x_{t+\\tau}}{x_t})$, extracting these values from the simulation at each firm and timestep. Notice the logarithm to obtain log-growth.\n",
    "\n",
    "Note that $\\tau$ represents the time lag, which we will set to $\\tau=1$."
   ]
  },
  {
   "cell_type": "code",
   "execution_count": null,
   "metadata": {},
   "outputs": [],
   "source": [
    "# Plot the size distribution at the end of the simulation"
   ]
  },
  {
   "cell_type": "markdown",
   "metadata": {},
   "source": [
    "**Questions:**\n",
    "\n",
    "1. What distribution do the log-returns follow? \n",
    "1. How does the distribution of log-returns change as $\\tau$ increases?\n",
    "2. Set $k$ to a high number, e.g., 3, and observe the distribution of log-returns for different $\\tau$ values. What do you observe? Why is this?"
   ]
  },
  {
   "cell_type": "markdown",
   "metadata": {},
   "source": [
    "#### Task 3: Plot firm size distribution"
   ]
  },
  {
   "cell_type": "code",
   "execution_count": null,
   "metadata": {},
   "outputs": [],
   "source": [
    "# plot size distribution in log-log scale"
   ]
  },
  {
   "cell_type": "markdown",
   "metadata": {},
   "source": [
    "**Questions:** Why does the firm size distribution not converge to a log-normal distribution? What assumption is violated?"
   ]
  },
  {
   "cell_type": "markdown",
   "metadata": {},
   "source": [
    "#### Task 4: Explicit Sampling of Growth Rates from a Laplace Distribution\n",
    "\n",
    "In the previous exploration, growth rates derived from an implicitly Laplacian distribution were not iid, leading to a non-log-normal firm size distribution. \n",
    "\n",
    "\n",
    "**Questions:**  If we explicitly sample growth rates from a Laplace distribution, i.e., satisfying the iid assumption, what distribution of firm sizes should we now expect?\n",
    "\n",
    "\n",
    "The growth process is defined as:\n",
    "$$\n",
    "x_{t+1} = x_t \\times \\lambda_i\n",
    "$$\n",
    "\n",
    "This can be equivalently expressed as:\n",
    "$$\n",
    "x_{t+1} = x_0 \\times \\prod_{i=1}^{t} \\lambda_i\n",
    "$$\n",
    "\n",
    "Or in log form:\n",
    "$$\n",
    "\\ln(x_{t+1}) = \\ln(x_0) + \\sum_{i=1}^{t} \\ln(\\lambda_i)\n",
    "$$\n",
    "\n",
    "Here, $\\ln(\\lambda_i)$ is sampled from a Laplace distribution with a mean of 0.1 and a scale of 0.4. Since $x_0 = 1$, $\\ln(x_0)$ is zero and omitted."
   ]
  },
  {
   "cell_type": "code",
   "execution_count": null,
   "metadata": {},
   "outputs": [],
   "source": [
    "L = np.random.laplace(0.1, .4, (n_firms, n_time))\n",
    "# show the distribution\n",
    "plt.hist(L.flatten(), bins=100, density=True);"
   ]
  },
  {
   "cell_type": "code",
   "execution_count": null,
   "metadata": {},
   "outputs": [],
   "source": [
    "# show firm size distribution\n",
    "plt.hist(L.sum(axis=1), 100);"
   ]
  },
  {
   "cell_type": "code",
   "execution_count": null,
   "metadata": {},
   "outputs": [],
   "source": []
  }
 ],
 "metadata": {
  "kernelspec": {
   "display_name": "edc",
   "language": "python",
   "name": "python3"
  },
  "language_info": {
   "codemirror_mode": {
    "name": "ipython",
    "version": 3
   },
   "file_extension": ".py",
   "mimetype": "text/x-python",
   "name": "python",
   "nbconvert_exporter": "python",
   "pygments_lexer": "ipython3",
   "version": "3.11.7"
  }
 },
 "nbformat": 4,
 "nbformat_minor": 2
}
